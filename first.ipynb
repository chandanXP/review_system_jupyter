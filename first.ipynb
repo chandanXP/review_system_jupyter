{
 "cells": [
  {
   "cell_type": "code",
   "execution_count": 1,
   "id": "cbf5768f",
   "metadata": {},
   "outputs": [],
   "source": [
    "import numpy as np"
   ]
  },
  {
   "cell_type": "code",
   "execution_count": 2,
   "id": "eae3123c",
   "metadata": {},
   "outputs": [
    {
     "name": "stdout",
     "output_type": "stream",
     "text": [
      "chandan\n"
     ]
    }
   ],
   "source": [
    "print(\"chandan\")"
   ]
  },
  {
   "cell_type": "code",
   "execution_count": 3,
   "id": "baabd77e",
   "metadata": {},
   "outputs": [],
   "source": [
    "import pandas as pd"
   ]
  },
  {
   "cell_type": "code",
   "execution_count": 6,
   "id": "b6c39d70",
   "metadata": {},
   "outputs": [],
   "source": [
    "df=pd.read_csv('team_stats.csv')"
   ]
  },
  {
   "cell_type": "code",
   "execution_count": 7,
   "id": "00522278",
   "metadata": {},
   "outputs": [
    {
     "name": "stdout",
     "output_type": "stream",
     "text": [
      "<bound method NDFrame.head of               team  players_used  avg_age  possession  games  games_starts  \\\n",
      "0        Argentina            21     28.7        65.0      4            44   \n",
      "1        Australia            20     28.7        37.8      4            44   \n",
      "2          Belgium            20     30.6        57.0      3            33   \n",
      "3           Brazil            26     28.4        57.8      4            44   \n",
      "4         Cameroon            22     28.0        41.7      3            33   \n",
      "5           Canada            19     28.2        52.0      3            33   \n",
      "6       Costa Rica            22     30.6        31.3      3            33   \n",
      "7          Croatia            18     29.4        55.0      4            44   \n",
      "8          Denmark            20     27.5        60.0      3            33   \n",
      "9          Ecuador            18     25.7        53.3      3            33   \n",
      "10         England            20     27.0        64.3      4            44   \n",
      "11          France            24     27.2        57.8      4            44   \n",
      "12         Germany            20     28.1        59.3      3            33   \n",
      "13           Ghana            20     26.4        42.0      3            33   \n",
      "14            Iran            21     29.3        36.7      3            33   \n",
      "15           Japan            22     28.8        35.8      4            44   \n",
      "16  Korea Republic            21     29.0        48.3      4            44   \n",
      "17          Mexico            21     29.0        54.0      3            33   \n",
      "18         Morocco            21     27.3        33.8      4            44   \n",
      "19     Netherlands            19     27.6        53.3      4            44   \n",
      "20          Poland            21     28.6        37.3      4            44   \n",
      "21        Portugal            24     27.9        57.3      4            44   \n",
      "22           Qatar            20     29.0        43.0      3            33   \n",
      "23    Saudi Arabia            23     28.1        44.7      3            33   \n",
      "24         Senegal            20     27.7        44.8      4            44   \n",
      "25          Serbia            22     27.4        51.3      3            33   \n",
      "26           Spain            21     26.3        75.8      4            44   \n",
      "27     Switzerland            24     28.4        49.0      4            44   \n",
      "28         Tunisia            21     27.7        44.3      3            33   \n",
      "29   United States            20     25.3        53.0      4            44   \n",
      "30         Uruguay            19     28.5        48.7      3            33   \n",
      "31           Wales            18     27.7        46.7      3            33   \n",
      "\n",
      "    minutes  minutes_90s  goals  assists  ...  goals_assists_pens_per90    xg  \\\n",
      "0       360          4.0      7        5  ...                      2.75   7.6   \n",
      "1       360          4.0      3        3  ...                      1.50   2.3   \n",
      "2       270          3.0      1        1  ...                      0.67   4.7   \n",
      "3       360          4.0      7        5  ...                      2.75   9.4   \n",
      "4       270          3.0      4        4  ...                      2.67   3.4   \n",
      "5       270          3.0      1        1  ...                      0.67   4.2   \n",
      "6       270          3.0      3        1  ...                      1.33   1.4   \n",
      "7       390          4.3      5        5  ...                      2.31   5.2   \n",
      "8       270          3.0      1        1  ...                      0.67   2.7   \n",
      "9       270          3.0      4        2  ...                      1.67   3.7   \n",
      "10      360          4.0     12       11  ...                      5.75   6.3   \n",
      "11      360          4.0      9        9  ...                      4.50   8.6   \n",
      "12      270          3.0      6        5  ...                      3.33  10.1   \n",
      "13      270          3.0      5        2  ...                      2.33   4.1   \n",
      "14      270          3.0      4        2  ...                      1.67   3.2   \n",
      "15      390          4.3      5        4  ...                      2.08   5.0   \n",
      "16      360          4.0      5        3  ...                      2.00   4.6   \n",
      "17      270          3.0      2        1  ...                      1.00   3.3   \n",
      "18      390          4.3      4        3  ...                      1.62   3.1   \n",
      "19      360          4.0      8        6  ...                      3.50   4.0   \n",
      "20      360          4.0      3        1  ...                      0.75   4.5   \n",
      "21      360          4.0     12       10  ...                      5.00   6.9   \n",
      "22      270          3.0      1        1  ...                      0.67   1.4   \n",
      "23      270          3.0      3        2  ...                      1.67   3.0   \n",
      "24      360          4.0      5        2  ...                      1.50   4.6   \n",
      "25      270          3.0      5        4  ...                      3.00   3.4   \n",
      "26      390          4.3      9        5  ...                      3.00   6.2   \n",
      "27      360          4.0      5        4  ...                      2.25   5.6   \n",
      "28      270          3.0      1        1  ...                      0.67   2.3   \n",
      "29      360          4.0      3        3  ...                      1.50   4.1   \n",
      "30      270          3.0      2        1  ...                      1.00   3.7   \n",
      "31      270          3.0      1        0  ...                      0.00   2.7   \n",
      "\n",
      "    npxg  xg_assist  npxg_xg_assist  xg_per90  xg_assist_per90  \\\n",
      "0    6.2        4.3            10.5      1.90             1.07   \n",
      "1    2.3        1.9             4.2      0.58             0.48   \n",
      "2    4.7        3.8             8.5      1.57             1.27   \n",
      "3    8.7        6.5            15.2      2.36             1.63   \n",
      "4    3.4        2.0             5.4      1.14             0.66   \n",
      "5    3.6        2.8             6.4      1.41             0.95   \n",
      "6    1.4        0.6             2.0      0.48             0.20   \n",
      "7    5.2        4.0             9.3      1.20             0.93   \n",
      "8    2.7        1.8             4.5      0.90             0.59   \n",
      "9    2.9        1.8             4.7      1.24             0.60   \n",
      "10   6.3        5.0            11.3      1.57             1.25   \n",
      "11   8.6        7.5            16.0      2.14             1.87   \n",
      "12   9.3        7.5            16.8      3.35             2.50   \n",
      "13   3.4        1.7             5.1      1.38             0.57   \n",
      "14   2.8        2.4             5.2      1.07             0.81   \n",
      "15   5.0        3.5             8.5      1.15             0.81   \n",
      "16   4.6        3.3             7.9      1.14             0.83   \n",
      "17   3.3        2.7             6.0      1.09             0.90   \n",
      "18   3.1        2.6             5.7      0.71             0.60   \n",
      "19   4.0        2.5             6.6      1.01             0.63   \n",
      "20   2.9        1.8             4.7      1.14             0.44   \n",
      "21   5.3        4.4             9.7      1.72             1.09   \n",
      "22   1.4        1.2             2.6      0.47             0.39   \n",
      "23   2.1        1.4             3.5      0.99             0.47   \n",
      "24   3.8        2.5             6.2      1.14             0.61   \n",
      "25   3.4        2.9             6.2      1.12             0.95   \n",
      "26   5.4        4.0             9.4      1.42             0.92   \n",
      "27   5.6        3.6             9.2      1.41             0.89   \n",
      "28   2.3        1.9             4.2      0.77             0.64   \n",
      "29   4.1        3.5             7.6      1.01             0.87   \n",
      "30   3.7        2.8             6.4      1.23             0.92   \n",
      "31   1.9        1.8             3.7      0.91             0.59   \n",
      "\n",
      "    xg_xg_assist_per90  npxg_per90  npxg_xg_assist_per90  \n",
      "0                 2.97        1.55                  2.62  \n",
      "1                 1.06        0.58                  1.06  \n",
      "2                 2.85        1.57                  2.85  \n",
      "3                 3.99        2.17                  3.79  \n",
      "4                 1.80        1.14                  1.80  \n",
      "5                 2.35        1.18                  2.13  \n",
      "6                 0.68        0.48                  0.68  \n",
      "7                 2.14        1.20                  2.14  \n",
      "8                 1.49        0.90                  1.49  \n",
      "9                 1.84        0.98                  1.58  \n",
      "10                2.82        1.57                  2.82  \n",
      "11                4.01        2.14                  4.01  \n",
      "12                5.85        3.09                  5.59  \n",
      "13                1.95        1.13                  1.70  \n",
      "14                1.88        0.94                  1.75  \n",
      "15                1.96        1.15                  1.96  \n",
      "16                1.98        1.14                  1.98  \n",
      "17                1.99        1.09                  1.99  \n",
      "18                1.31        0.71                  1.31  \n",
      "19                1.64        1.01                  1.64  \n",
      "20                1.58        0.74                  1.18  \n",
      "21                2.81        1.33                  2.42  \n",
      "22                0.87        0.47                  0.87  \n",
      "23                1.47        0.71                  1.18  \n",
      "24                1.75        0.94                  1.55  \n",
      "25                2.07        1.12                  2.07  \n",
      "26                2.34        1.24                  2.16  \n",
      "27                2.30        1.41                  2.30  \n",
      "28                1.41        0.77                  1.41  \n",
      "29                1.89        1.01                  1.89  \n",
      "30                2.15        1.23                  2.15  \n",
      "31                1.49        0.65                  1.23  \n",
      "\n",
      "[32 rows x 29 columns]>\n"
     ]
    }
   ],
   "source": [
    "print(df.head)"
   ]
  },
  {
   "cell_type": "code",
   "execution_count": 8,
   "id": "c4aea05c",
   "metadata": {},
   "outputs": [
    {
     "name": "stdout",
     "output_type": "stream",
     "text": [
      "<class 'pandas.core.frame.DataFrame'>\n",
      "RangeIndex: 32 entries, 0 to 31\n",
      "Data columns (total 29 columns):\n",
      " #   Column                    Non-Null Count  Dtype  \n",
      "---  ------                    --------------  -----  \n",
      " 0   team                      32 non-null     object \n",
      " 1   players_used              32 non-null     int64  \n",
      " 2   avg_age                   32 non-null     float64\n",
      " 3   possession                32 non-null     float64\n",
      " 4   games                     32 non-null     int64  \n",
      " 5   games_starts              32 non-null     int64  \n",
      " 6   minutes                   32 non-null     int64  \n",
      " 7   minutes_90s               32 non-null     float64\n",
      " 8   goals                     32 non-null     int64  \n",
      " 9   assists                   32 non-null     int64  \n",
      " 10  goals_pens                32 non-null     int64  \n",
      " 11  pens_made                 32 non-null     int64  \n",
      " 12  pens_att                  32 non-null     int64  \n",
      " 13  cards_yellow              32 non-null     int64  \n",
      " 14  cards_red                 32 non-null     int64  \n",
      " 15  goals_per90               32 non-null     float64\n",
      " 16  assists_per90             32 non-null     float64\n",
      " 17  goals_assists_per90       32 non-null     float64\n",
      " 18  goals_pens_per90          32 non-null     float64\n",
      " 19  goals_assists_pens_per90  32 non-null     float64\n",
      " 20  xg                        32 non-null     float64\n",
      " 21  npxg                      32 non-null     float64\n",
      " 22  xg_assist                 32 non-null     float64\n",
      " 23  npxg_xg_assist            32 non-null     float64\n",
      " 24  xg_per90                  32 non-null     float64\n",
      " 25  xg_assist_per90           32 non-null     float64\n",
      " 26  xg_xg_assist_per90        32 non-null     float64\n",
      " 27  npxg_per90                32 non-null     float64\n",
      " 28  npxg_xg_assist_per90      32 non-null     float64\n",
      "dtypes: float64(17), int64(11), object(1)\n",
      "memory usage: 7.4+ KB\n"
     ]
    }
   ],
   "source": [
    "df.info()"
   ]
  },
  {
   "cell_type": "code",
   "execution_count": 9,
   "id": "6d2c73fa",
   "metadata": {},
   "outputs": [
    {
     "data": {
      "text/plain": [
       "team                        0\n",
       "players_used                0\n",
       "avg_age                     0\n",
       "possession                  0\n",
       "games                       0\n",
       "games_starts                0\n",
       "minutes                     0\n",
       "minutes_90s                 0\n",
       "goals                       0\n",
       "assists                     0\n",
       "goals_pens                  0\n",
       "pens_made                   0\n",
       "pens_att                    0\n",
       "cards_yellow                0\n",
       "cards_red                   0\n",
       "goals_per90                 0\n",
       "assists_per90               0\n",
       "goals_assists_per90         0\n",
       "goals_pens_per90            0\n",
       "goals_assists_pens_per90    0\n",
       "xg                          0\n",
       "npxg                        0\n",
       "xg_assist                   0\n",
       "npxg_xg_assist              0\n",
       "xg_per90                    0\n",
       "xg_assist_per90             0\n",
       "xg_xg_assist_per90          0\n",
       "npxg_per90                  0\n",
       "npxg_xg_assist_per90        0\n",
       "dtype: int64"
      ]
     },
     "execution_count": 9,
     "metadata": {},
     "output_type": "execute_result"
    }
   ],
   "source": [
    "df.isna().sum()"
   ]
  },
  {
   "cell_type": "code",
   "execution_count": 12,
   "id": "bd9f251c",
   "metadata": {},
   "outputs": [
    {
     "data": {
      "text/plain": [
       "20    9\n",
       "21    8\n",
       "22    4\n",
       "19    3\n",
       "18    3\n",
       "24    3\n",
       "26    1\n",
       "23    1\n",
       "Name: players_used, dtype: int64"
      ]
     },
     "execution_count": 12,
     "metadata": {},
     "output_type": "execute_result"
    }
   ],
   "source": [
    "df['players_used'].value_counts()"
   ]
  },
  {
   "cell_type": "code",
   "execution_count": 13,
   "id": "e8184798",
   "metadata": {},
   "outputs": [],
   "source": [
    "i = len(df.columns)"
   ]
  },
  {
   "cell_type": "code",
   "execution_count": 14,
   "id": "90794c99",
   "metadata": {},
   "outputs": [
    {
     "name": "stdout",
     "output_type": "stream",
     "text": [
      "29\n"
     ]
    }
   ],
   "source": [
    "print(i)"
   ]
  },
  {
   "cell_type": "code",
   "execution_count": 25,
   "id": "14cf6fe4",
   "metadata": {},
   "outputs": [],
   "source": [
    "rows = len(df.axes[0])"
   ]
  },
  {
   "cell_type": "code",
   "execution_count": 26,
   "id": "9a63a748",
   "metadata": {},
   "outputs": [
    {
     "name": "stdout",
     "output_type": "stream",
     "text": [
      "32\n"
     ]
    }
   ],
   "source": [
    "print(rows)"
   ]
  },
  {
   "cell_type": "code",
   "execution_count": 27,
   "id": "5f60caaf",
   "metadata": {},
   "outputs": [
    {
     "data": {
      "text/plain": [
       "(32,)"
      ]
     },
     "execution_count": 27,
     "metadata": {},
     "output_type": "execute_result"
    }
   ],
   "source": [
    "y = df['team'].values\n",
    "y.shape"
   ]
  },
  {
   "cell_type": "code",
   "execution_count": 30,
   "id": "b5751117",
   "metadata": {},
   "outputs": [
    {
     "data": {
      "text/plain": [
       "20"
      ]
     },
     "execution_count": 30,
     "metadata": {},
     "output_type": "execute_result"
    }
   ],
   "source": [
    "df['players_used'].value_counts().idxmax()"
   ]
  },
  {
   "cell_type": "code",
   "execution_count": 31,
   "id": "896af25c",
   "metadata": {},
   "outputs": [
    {
     "data": {
      "text/plain": [
       "26"
      ]
     },
     "execution_count": 31,
     "metadata": {},
     "output_type": "execute_result"
    }
   ],
   "source": [
    "df['players_used'].value_counts().idxmin()"
   ]
  },
  {
   "cell_type": "code",
   "execution_count": 33,
   "id": "76660417",
   "metadata": {},
   "outputs": [
    {
     "data": {
      "text/plain": [
       "20"
      ]
     },
     "execution_count": 33,
     "metadata": {},
     "output_type": "execute_result"
    }
   ],
   "source": [
    "df['players_used'].value_counts().idxmax()"
   ]
  },
  {
   "cell_type": "code",
   "execution_count": 37,
   "id": "834b3931",
   "metadata": {},
   "outputs": [
    {
     "data": {
      "text/plain": [
       "20"
      ]
     },
     "execution_count": 37,
     "metadata": {},
     "output_type": "execute_result"
    }
   ],
   "source": [
    "df._get_value(8, 'players_used')"
   ]
  },
  {
   "cell_type": "code",
   "execution_count": 41,
   "id": "97def466",
   "metadata": {},
   "outputs": [
    {
     "data": {
      "text/html": [
       "<div>\n",
       "<style scoped>\n",
       "    .dataframe tbody tr th:only-of-type {\n",
       "        vertical-align: middle;\n",
       "    }\n",
       "\n",
       "    .dataframe tbody tr th {\n",
       "        vertical-align: top;\n",
       "    }\n",
       "\n",
       "    .dataframe thead th {\n",
       "        text-align: right;\n",
       "    }\n",
       "</style>\n",
       "<table border=\"1\" class=\"dataframe\">\n",
       "  <thead>\n",
       "    <tr style=\"text-align: right;\">\n",
       "      <th></th>\n",
       "      <th>team</th>\n",
       "      <th>avg_age</th>\n",
       "    </tr>\n",
       "  </thead>\n",
       "  <tbody>\n",
       "    <tr>\n",
       "      <th>0</th>\n",
       "      <td>Argentina</td>\n",
       "      <td>28.7</td>\n",
       "    </tr>\n",
       "    <tr>\n",
       "      <th>1</th>\n",
       "      <td>Australia</td>\n",
       "      <td>28.7</td>\n",
       "    </tr>\n",
       "    <tr>\n",
       "      <th>2</th>\n",
       "      <td>Belgium</td>\n",
       "      <td>30.6</td>\n",
       "    </tr>\n",
       "    <tr>\n",
       "      <th>3</th>\n",
       "      <td>Brazil</td>\n",
       "      <td>28.4</td>\n",
       "    </tr>\n",
       "    <tr>\n",
       "      <th>4</th>\n",
       "      <td>Cameroon</td>\n",
       "      <td>28.0</td>\n",
       "    </tr>\n",
       "    <tr>\n",
       "      <th>5</th>\n",
       "      <td>Canada</td>\n",
       "      <td>28.2</td>\n",
       "    </tr>\n",
       "    <tr>\n",
       "      <th>6</th>\n",
       "      <td>Costa Rica</td>\n",
       "      <td>30.6</td>\n",
       "    </tr>\n",
       "    <tr>\n",
       "      <th>7</th>\n",
       "      <td>Croatia</td>\n",
       "      <td>29.4</td>\n",
       "    </tr>\n",
       "    <tr>\n",
       "      <th>8</th>\n",
       "      <td>Denmark</td>\n",
       "      <td>27.5</td>\n",
       "    </tr>\n",
       "    <tr>\n",
       "      <th>9</th>\n",
       "      <td>Ecuador</td>\n",
       "      <td>25.7</td>\n",
       "    </tr>\n",
       "    <tr>\n",
       "      <th>10</th>\n",
       "      <td>England</td>\n",
       "      <td>27.0</td>\n",
       "    </tr>\n",
       "    <tr>\n",
       "      <th>11</th>\n",
       "      <td>France</td>\n",
       "      <td>27.2</td>\n",
       "    </tr>\n",
       "    <tr>\n",
       "      <th>12</th>\n",
       "      <td>Germany</td>\n",
       "      <td>28.1</td>\n",
       "    </tr>\n",
       "    <tr>\n",
       "      <th>13</th>\n",
       "      <td>Ghana</td>\n",
       "      <td>26.4</td>\n",
       "    </tr>\n",
       "    <tr>\n",
       "      <th>14</th>\n",
       "      <td>Iran</td>\n",
       "      <td>29.3</td>\n",
       "    </tr>\n",
       "    <tr>\n",
       "      <th>15</th>\n",
       "      <td>Japan</td>\n",
       "      <td>28.8</td>\n",
       "    </tr>\n",
       "    <tr>\n",
       "      <th>16</th>\n",
       "      <td>Korea Republic</td>\n",
       "      <td>29.0</td>\n",
       "    </tr>\n",
       "    <tr>\n",
       "      <th>17</th>\n",
       "      <td>Mexico</td>\n",
       "      <td>29.0</td>\n",
       "    </tr>\n",
       "    <tr>\n",
       "      <th>18</th>\n",
       "      <td>Morocco</td>\n",
       "      <td>27.3</td>\n",
       "    </tr>\n",
       "    <tr>\n",
       "      <th>19</th>\n",
       "      <td>Netherlands</td>\n",
       "      <td>27.6</td>\n",
       "    </tr>\n",
       "    <tr>\n",
       "      <th>20</th>\n",
       "      <td>Poland</td>\n",
       "      <td>28.6</td>\n",
       "    </tr>\n",
       "    <tr>\n",
       "      <th>21</th>\n",
       "      <td>Portugal</td>\n",
       "      <td>27.9</td>\n",
       "    </tr>\n",
       "    <tr>\n",
       "      <th>22</th>\n",
       "      <td>Qatar</td>\n",
       "      <td>29.0</td>\n",
       "    </tr>\n",
       "    <tr>\n",
       "      <th>23</th>\n",
       "      <td>Saudi Arabia</td>\n",
       "      <td>28.1</td>\n",
       "    </tr>\n",
       "    <tr>\n",
       "      <th>24</th>\n",
       "      <td>Senegal</td>\n",
       "      <td>27.7</td>\n",
       "    </tr>\n",
       "    <tr>\n",
       "      <th>25</th>\n",
       "      <td>Serbia</td>\n",
       "      <td>27.4</td>\n",
       "    </tr>\n",
       "    <tr>\n",
       "      <th>26</th>\n",
       "      <td>Spain</td>\n",
       "      <td>26.3</td>\n",
       "    </tr>\n",
       "    <tr>\n",
       "      <th>27</th>\n",
       "      <td>Switzerland</td>\n",
       "      <td>28.4</td>\n",
       "    </tr>\n",
       "    <tr>\n",
       "      <th>28</th>\n",
       "      <td>Tunisia</td>\n",
       "      <td>27.7</td>\n",
       "    </tr>\n",
       "    <tr>\n",
       "      <th>29</th>\n",
       "      <td>United States</td>\n",
       "      <td>25.3</td>\n",
       "    </tr>\n",
       "    <tr>\n",
       "      <th>30</th>\n",
       "      <td>Uruguay</td>\n",
       "      <td>28.5</td>\n",
       "    </tr>\n",
       "    <tr>\n",
       "      <th>31</th>\n",
       "      <td>Wales</td>\n",
       "      <td>27.7</td>\n",
       "    </tr>\n",
       "  </tbody>\n",
       "</table>\n",
       "</div>"
      ],
      "text/plain": [
       "              team  avg_age\n",
       "0        Argentina     28.7\n",
       "1        Australia     28.7\n",
       "2          Belgium     30.6\n",
       "3           Brazil     28.4\n",
       "4         Cameroon     28.0\n",
       "5           Canada     28.2\n",
       "6       Costa Rica     30.6\n",
       "7          Croatia     29.4\n",
       "8          Denmark     27.5\n",
       "9          Ecuador     25.7\n",
       "10         England     27.0\n",
       "11          France     27.2\n",
       "12         Germany     28.1\n",
       "13           Ghana     26.4\n",
       "14            Iran     29.3\n",
       "15           Japan     28.8\n",
       "16  Korea Republic     29.0\n",
       "17          Mexico     29.0\n",
       "18         Morocco     27.3\n",
       "19     Netherlands     27.6\n",
       "20          Poland     28.6\n",
       "21        Portugal     27.9\n",
       "22           Qatar     29.0\n",
       "23    Saudi Arabia     28.1\n",
       "24         Senegal     27.7\n",
       "25          Serbia     27.4\n",
       "26           Spain     26.3\n",
       "27     Switzerland     28.4\n",
       "28         Tunisia     27.7\n",
       "29   United States     25.3\n",
       "30         Uruguay     28.5\n",
       "31           Wales     27.7"
      ]
     },
     "execution_count": 41,
     "metadata": {},
     "output_type": "execute_result"
    }
   ],
   "source": [
    "df[[\"team\", \"avg_age\"]]"
   ]
  },
  {
   "cell_type": "code",
   "execution_count": null,
   "id": "fb2c4ea3",
   "metadata": {},
   "outputs": [],
   "source": []
  },
  {
   "cell_type": "code",
   "execution_count": 54,
   "id": "8edbf4dc",
   "metadata": {},
   "outputs": [
    {
     "data": {
      "text/html": [
       "<div>\n",
       "<style scoped>\n",
       "    .dataframe tbody tr th:only-of-type {\n",
       "        vertical-align: middle;\n",
       "    }\n",
       "\n",
       "    .dataframe tbody tr th {\n",
       "        vertical-align: top;\n",
       "    }\n",
       "\n",
       "    .dataframe thead th {\n",
       "        text-align: right;\n",
       "    }\n",
       "</style>\n",
       "<table border=\"1\" class=\"dataframe\">\n",
       "  <thead>\n",
       "    <tr style=\"text-align: right;\">\n",
       "      <th></th>\n",
       "      <th>team</th>\n",
       "      <th>players_used</th>\n",
       "      <th>avg_age</th>\n",
       "      <th>possession</th>\n",
       "      <th>games</th>\n",
       "      <th>games_starts</th>\n",
       "      <th>minutes</th>\n",
       "      <th>minutes_90s</th>\n",
       "      <th>goals</th>\n",
       "      <th>assists</th>\n",
       "      <th>...</th>\n",
       "      <th>goals_assists_pens_per90</th>\n",
       "      <th>xg</th>\n",
       "      <th>npxg</th>\n",
       "      <th>xg_assist</th>\n",
       "      <th>npxg_xg_assist</th>\n",
       "      <th>xg_per90</th>\n",
       "      <th>xg_assist_per90</th>\n",
       "      <th>xg_xg_assist_per90</th>\n",
       "      <th>npxg_per90</th>\n",
       "      <th>npxg_xg_assist_per90</th>\n",
       "    </tr>\n",
       "  </thead>\n",
       "  <tbody>\n",
       "    <tr>\n",
       "      <th>10</th>\n",
       "      <td>England</td>\n",
       "      <td>20</td>\n",
       "      <td>27.0</td>\n",
       "      <td>64.3</td>\n",
       "      <td>4</td>\n",
       "      <td>44</td>\n",
       "      <td>360</td>\n",
       "      <td>4.0</td>\n",
       "      <td>12</td>\n",
       "      <td>11</td>\n",
       "      <td>...</td>\n",
       "      <td>5.75</td>\n",
       "      <td>6.3</td>\n",
       "      <td>6.3</td>\n",
       "      <td>5.0</td>\n",
       "      <td>11.3</td>\n",
       "      <td>1.57</td>\n",
       "      <td>1.25</td>\n",
       "      <td>2.82</td>\n",
       "      <td>1.57</td>\n",
       "      <td>2.82</td>\n",
       "    </tr>\n",
       "    <tr>\n",
       "      <th>11</th>\n",
       "      <td>France</td>\n",
       "      <td>24</td>\n",
       "      <td>27.2</td>\n",
       "      <td>57.8</td>\n",
       "      <td>4</td>\n",
       "      <td>44</td>\n",
       "      <td>360</td>\n",
       "      <td>4.0</td>\n",
       "      <td>9</td>\n",
       "      <td>9</td>\n",
       "      <td>...</td>\n",
       "      <td>4.50</td>\n",
       "      <td>8.6</td>\n",
       "      <td>8.6</td>\n",
       "      <td>7.5</td>\n",
       "      <td>16.0</td>\n",
       "      <td>2.14</td>\n",
       "      <td>1.87</td>\n",
       "      <td>4.01</td>\n",
       "      <td>2.14</td>\n",
       "      <td>4.01</td>\n",
       "    </tr>\n",
       "  </tbody>\n",
       "</table>\n",
       "<p>2 rows × 29 columns</p>\n",
       "</div>"
      ],
      "text/plain": [
       "       team  players_used  avg_age  possession  games  games_starts  minutes  \\\n",
       "10  England            20     27.0        64.3      4            44      360   \n",
       "11   France            24     27.2        57.8      4            44      360   \n",
       "\n",
       "    minutes_90s  goals  assists  ...  goals_assists_pens_per90   xg  npxg  \\\n",
       "10          4.0     12       11  ...                      5.75  6.3   6.3   \n",
       "11          4.0      9        9  ...                      4.50  8.6   8.6   \n",
       "\n",
       "    xg_assist  npxg_xg_assist  xg_per90  xg_assist_per90  xg_xg_assist_per90  \\\n",
       "10        5.0            11.3      1.57             1.25                2.82   \n",
       "11        7.5            16.0      2.14             1.87                4.01   \n",
       "\n",
       "    npxg_per90  npxg_xg_assist_per90  \n",
       "10        1.57                  2.82  \n",
       "11        2.14                  4.01  \n",
       "\n",
       "[2 rows x 29 columns]"
      ]
     },
     "execution_count": 54,
     "metadata": {},
     "output_type": "execute_result"
    }
   ],
   "source": [
    "df.loc[[10, 11]]"
   ]
  },
  {
   "cell_type": "code",
   "execution_count": 55,
   "id": "3942caee",
   "metadata": {},
   "outputs": [],
   "source": [
    "dfs = df.T"
   ]
  },
  {
   "cell_type": "code",
   "execution_count": 56,
   "id": "ff3b5209",
   "metadata": {},
   "outputs": [
    {
     "data": {
      "text/plain": [
       "<bound method NDFrame.head of                                  0          1        2       3         4   \\\n",
       "team                      Argentina  Australia  Belgium  Brazil  Cameroon   \n",
       "players_used                     21         20       20      26        22   \n",
       "avg_age                        28.7       28.7     30.6    28.4      28.0   \n",
       "possession                     65.0       37.8     57.0    57.8      41.7   \n",
       "games                             4          4        3       4         3   \n",
       "games_starts                     44         44       33      44        33   \n",
       "minutes                         360        360      270     360       270   \n",
       "minutes_90s                     4.0        4.0      3.0     4.0       3.0   \n",
       "goals                             7          3        1       7         4   \n",
       "assists                           5          3        1       5         4   \n",
       "goals_pens                        6          3        1       6         4   \n",
       "pens_made                         1          0        0       1         0   \n",
       "pens_att                          2          0        0       1         0   \n",
       "cards_yellow                      2          7        5       3         8   \n",
       "cards_red                         0          0        0       0         1   \n",
       "goals_per90                    1.75       0.75     0.33    1.75      1.33   \n",
       "assists_per90                  1.25       0.75     0.33    1.25      1.33   \n",
       "goals_assists_per90             3.0        1.5     0.67     3.0      2.67   \n",
       "goals_pens_per90                1.5       0.75     0.33     1.5      1.33   \n",
       "goals_assists_pens_per90       2.75        1.5     0.67    2.75      2.67   \n",
       "xg                              7.6        2.3      4.7     9.4       3.4   \n",
       "npxg                            6.2        2.3      4.7     8.7       3.4   \n",
       "xg_assist                       4.3        1.9      3.8     6.5       2.0   \n",
       "npxg_xg_assist                 10.5        4.2      8.5    15.2       5.4   \n",
       "xg_per90                        1.9       0.58     1.57    2.36      1.14   \n",
       "xg_assist_per90                1.07       0.48     1.27    1.63      0.66   \n",
       "xg_xg_assist_per90             2.97       1.06     2.85    3.99       1.8   \n",
       "npxg_per90                     1.55       0.58     1.57    2.17      1.14   \n",
       "npxg_xg_assist_per90           2.62       1.06     2.85    3.79       1.8   \n",
       "\n",
       "                              5           6        7        8        9   ...  \\\n",
       "team                      Canada  Costa Rica  Croatia  Denmark  Ecuador  ...   \n",
       "players_used                  19          22       18       20       18  ...   \n",
       "avg_age                     28.2        30.6     29.4     27.5     25.7  ...   \n",
       "possession                  52.0        31.3     55.0     60.0     53.3  ...   \n",
       "games                          3           3        4        3        3  ...   \n",
       "games_starts                  33          33       44       33       33  ...   \n",
       "minutes                      270         270      390      270      270  ...   \n",
       "minutes_90s                  3.0         3.0      4.3      3.0      3.0  ...   \n",
       "goals                          1           3        5        1        4  ...   \n",
       "assists                        1           1        5        1        2  ...   \n",
       "goals_pens                     1           3        5        1        3  ...   \n",
       "pens_made                      0           0        0        0        1  ...   \n",
       "pens_att                       1           0        0        0        1  ...   \n",
       "cards_yellow                   8           6        4        5        3  ...   \n",
       "cards_red                      0           0        0        0        0  ...   \n",
       "goals_per90                 0.33         1.0     1.15     0.33     1.33  ...   \n",
       "assists_per90               0.33        0.33     1.15     0.33     0.67  ...   \n",
       "goals_assists_per90         0.67        1.33     2.31     0.67      2.0  ...   \n",
       "goals_pens_per90            0.33         1.0     1.15     0.33      1.0  ...   \n",
       "goals_assists_pens_per90    0.67        1.33     2.31     0.67     1.67  ...   \n",
       "xg                           4.2         1.4      5.2      2.7      3.7  ...   \n",
       "npxg                         3.6         1.4      5.2      2.7      2.9  ...   \n",
       "xg_assist                    2.8         0.6      4.0      1.8      1.8  ...   \n",
       "npxg_xg_assist               6.4         2.0      9.3      4.5      4.7  ...   \n",
       "xg_per90                    1.41        0.48      1.2      0.9     1.24  ...   \n",
       "xg_assist_per90             0.95         0.2     0.93     0.59      0.6  ...   \n",
       "xg_xg_assist_per90          2.35        0.68     2.14     1.49     1.84  ...   \n",
       "npxg_per90                  1.18        0.48      1.2      0.9     0.98  ...   \n",
       "npxg_xg_assist_per90        2.13        0.68     2.14     1.49     1.58  ...   \n",
       "\n",
       "                             22            23       24      25     26  \\\n",
       "team                      Qatar  Saudi Arabia  Senegal  Serbia  Spain   \n",
       "players_used                 20            23       20      22     21   \n",
       "avg_age                    29.0          28.1     27.7    27.4   26.3   \n",
       "possession                 43.0          44.7     44.8    51.3   75.8   \n",
       "games                         3             3        4       3      4   \n",
       "games_starts                 33            33       44      33     44   \n",
       "minutes                     270           270      360     270    390   \n",
       "minutes_90s                 3.0           3.0      4.0     3.0    4.3   \n",
       "goals                         1             3        5       5      9   \n",
       "assists                       1             2        2       4      5   \n",
       "goals_pens                    1             3        4       5      8   \n",
       "pens_made                     0             0        1       0      1   \n",
       "pens_att                      0             1        1       0      1   \n",
       "cards_yellow                  7            14        7      11      2   \n",
       "cards_red                     0             0        0       0      0   \n",
       "goals_per90                0.33           1.0     1.25    1.67   2.08   \n",
       "assists_per90              0.33          0.67      0.5    1.33   1.15   \n",
       "goals_assists_per90        0.67          1.67     1.75     3.0   3.23   \n",
       "goals_pens_per90           0.33           1.0      1.0    1.67   1.85   \n",
       "goals_assists_pens_per90   0.67          1.67      1.5     3.0    3.0   \n",
       "xg                          1.4           3.0      4.6     3.4    6.2   \n",
       "npxg                        1.4           2.1      3.8     3.4    5.4   \n",
       "xg_assist                   1.2           1.4      2.5     2.9    4.0   \n",
       "npxg_xg_assist              2.6           3.5      6.2     6.2    9.4   \n",
       "xg_per90                   0.47          0.99     1.14    1.12   1.42   \n",
       "xg_assist_per90            0.39          0.47     0.61    0.95   0.92   \n",
       "xg_xg_assist_per90         0.87          1.47     1.75    2.07   2.34   \n",
       "npxg_per90                 0.47          0.71     0.94    1.12   1.24   \n",
       "npxg_xg_assist_per90       0.87          1.18     1.55    2.07   2.16   \n",
       "\n",
       "                                   27       28             29       30     31  \n",
       "team                      Switzerland  Tunisia  United States  Uruguay  Wales  \n",
       "players_used                       24       21             20       19     18  \n",
       "avg_age                          28.4     27.7           25.3     28.5   27.7  \n",
       "possession                       49.0     44.3           53.0     48.7   46.7  \n",
       "games                               4        3              4        3      3  \n",
       "games_starts                       44       33             44       33     33  \n",
       "minutes                           360      270            360      270    270  \n",
       "minutes_90s                       4.0      3.0            4.0      3.0    3.0  \n",
       "goals                               5        1              3        2      1  \n",
       "assists                             4        1              3        1      0  \n",
       "goals_pens                          5        1              3        2      0  \n",
       "pens_made                           0        0              0        0      1  \n",
       "pens_att                            0        0              0        0      1  \n",
       "cards_yellow                        9        5              5        8      5  \n",
       "cards_red                           0        0              0        0      1  \n",
       "goals_per90                      1.25     0.33           0.75     0.67   0.33  \n",
       "assists_per90                     1.0     0.33           0.75     0.33    0.0  \n",
       "goals_assists_per90              2.25     0.67            1.5      1.0   0.33  \n",
       "goals_pens_per90                 1.25     0.33           0.75     0.67    0.0  \n",
       "goals_assists_pens_per90         2.25     0.67            1.5      1.0    0.0  \n",
       "xg                                5.6      2.3            4.1      3.7    2.7  \n",
       "npxg                              5.6      2.3            4.1      3.7    1.9  \n",
       "xg_assist                         3.6      1.9            3.5      2.8    1.8  \n",
       "npxg_xg_assist                    9.2      4.2            7.6      6.4    3.7  \n",
       "xg_per90                         1.41     0.77           1.01     1.23   0.91  \n",
       "xg_assist_per90                  0.89     0.64           0.87     0.92   0.59  \n",
       "xg_xg_assist_per90                2.3     1.41           1.89     2.15   1.49  \n",
       "npxg_per90                       1.41     0.77           1.01     1.23   0.65  \n",
       "npxg_xg_assist_per90              2.3     1.41           1.89     2.15   1.23  \n",
       "\n",
       "[29 rows x 32 columns]>"
      ]
     },
     "execution_count": 56,
     "metadata": {},
     "output_type": "execute_result"
    }
   ],
   "source": [
    "dfs.head"
   ]
  },
  {
   "cell_type": "code",
   "execution_count": null,
   "id": "0360847a",
   "metadata": {},
   "outputs": [],
   "source": []
  }
 ],
 "metadata": {
  "kernelspec": {
   "display_name": "Python 3 (ipykernel)",
   "language": "python",
   "name": "python3"
  },
  "language_info": {
   "codemirror_mode": {
    "name": "ipython",
    "version": 3
   },
   "file_extension": ".py",
   "mimetype": "text/x-python",
   "name": "python",
   "nbconvert_exporter": "python",
   "pygments_lexer": "ipython3",
   "version": "3.8.0"
  }
 },
 "nbformat": 4,
 "nbformat_minor": 5
}
