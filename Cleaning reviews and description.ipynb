{
 "cells": [
  {
   "cell_type": "code",
   "execution_count": 1,
   "id": "26f82fea",
   "metadata": {},
   "outputs": [],
   "source": [
    "from nltk.tokenize import sent_tokenize, word_tokenize\n",
    "import warnings\n",
    "warnings.filterwarnings(action = 'ignore')\n",
    "import pandas as pd"
   ]
  },
  {
   "cell_type": "code",
   "execution_count": 5,
   "id": "12ea3565",
   "metadata": {},
   "outputs": [],
   "source": [
    "df= pd.read_csv(\"C:\\data scraping\\product_desc.csv\")\n",
    "pd.set_option('display.max_colwidth', None)"
   ]
  },
  {
   "cell_type": "code",
   "execution_count": 11,
   "id": "8bc45033",
   "metadata": {},
   "outputs": [],
   "source": [
    "import nltk.corpus\n",
    " \n",
    "from nltk.corpus import stopwords\n",
    "stop_words = stopwords.words('english')"
   ]
  },
  {
   "cell_type": "code",
   "execution_count": 12,
   "id": "17f125ae",
   "metadata": {},
   "outputs": [],
   "source": [
    "df['clean_title'] = df['title'].apply(lambda x: ' '.join([word for word in x.split() if word not in (stop_words)]))"
   ]
  },
  {
   "cell_type": "code",
   "execution_count": 13,
   "id": "31ab68cc",
   "metadata": {},
   "outputs": [
    {
     "data": {
      "text/plain": [
       "0                           Boult Audio Audio Airbass X50 Quad Mic ENC, 40H Playtime Gaming Mode On Bluetooth Headset (Black, True Wireless)\n",
       "1      Boult Audio Airbass Z35 ZEN ENC Mic, 32H Playtime, 45ms Ultra-Low Latency Mode, 5.3 Bluetooth Headset (Graphite Black, True Wireless)\n",
       "2                       OnePlus Bullets Wireless Z2 Fast Charge, 30 Hrs Battery Life, Earphones mic Bluetooth Headset (Magico Black, In Ear)\n",
       "3                                                                          OnePlus Bullets Wireless Z2 Bluetooth Headset (Beam Blue, In Ear)\n",
       "4                                                                       OnePlus Bullets Wireless Z2 Bluetooth Headset (Acoustic Red, In Ear)\n",
       "                                                                       ...                                                                  \n",
       "995                                                      U&i Titanic Series - Low Price Bluetooth Neckband Bluetooth Headset (Black, In Ear)\n",
       "996                                            fiado XG13 tws bluetooth 5.0 EarPods stereo wireless Bluetooth Headset (Black, True Wireless)\n",
       "997                                                  FKU 5.0 Bluetooth NECKBAND WITH Memory Card Slot Bluetooth Headset (Multicolor, In Ear)\n",
       "998                Fire-Boltt Fire Pods Ninja Pro 401 Earbuds TWS, IWP, Super Sync, Voice Assistant Bluetooth Headset (White, True Wireless)\n",
       "999                              Mivi DuoPods M30 earbuds 42 hours playtime | Made India | Deep Bass Bluetooth Headset (Blue, True Wireless)\n",
       "Name: clean_title, Length: 1000, dtype: object"
      ]
     },
     "execution_count": 13,
     "metadata": {},
     "output_type": "execute_result"
    }
   ],
   "source": [
    "df['clean_title']"
   ]
  },
  {
   "cell_type": "code",
   "execution_count": 30,
   "id": "f2446cd4",
   "metadata": {},
   "outputs": [],
   "source": [
    "title = df['title']"
   ]
  },
  {
   "cell_type": "code",
   "execution_count": 22,
   "id": "12bc559a",
   "metadata": {},
   "outputs": [
    {
     "data": {
      "text/plain": [
       "Mivi DuoPods M30 earbuds with 42 hours of playtime | Made in India | Deep Bass Bluetooth Headset  (Black, True Wireless)                                                                  24\n",
       "Boult Audio ProBass Escape with Zen Tech ENC mic 10Hrs Playtime, Extra Deep Bass Bluetooth Headset  (Black, In the Ear)                                                                   24\n",
       "Boult Audio Airbass Z35 with ZEN ENC Mic, 32H Playtime, 45ms Ultra-Low Latency Mode, 5.3 Bluetooth Headset  (Graphite Black, True Wireless)                                               24\n",
       "Mivi DuoPods F40 with 50 Hrs Playtime I13mm Drivers|Made in India| Deep Bass Bluetooth Headset  (Blue, True Wireless)                                                                     24\n",
       "Microflash Touch, Voice Control-LED Display Earbuds Bluetooth Headset  (Black, True Wireless)                                                                                             19\n",
       "Boult Audio Audio Airbass X50 with Quad Mic ENC, 40H Playtime with Gaming Mode On Bluetooth Headset  (Black, True Wireless)                                                               13\n",
       "HOPPUP SYNC with Bluetooth 5.1 & Type C Fast Charging Bluetooth Headset  (Blue, True Wireless)                                                                                            13\n",
       "Mivi DuoPods M30 earbuds with 42 hours of playtime | Made in India | Deep Bass Bluetooth Headset  (Blue, True Wireless)                                                                   13\n",
       "boAt Airdopes 161 with ASAP Charge, 10mm Drivers and 17 Hours Playback Bluetooth Headset  (Pebble Black, True Wireless)                                                                   13\n",
       "Boult Audio AirBass GearPods with 32H Playtime Bluetooth Headset  (Black, True Wireless)                                                                                                  12\n",
       "Boult Audio AirBass Y1 TWS Earbuds, 40H Playtime, Fast Charging, Pro+ Calling, Type C, IPX5 Water Resistant, Bluetooth v5.1, Voice Assistant Bluetooth Headset  (Black, True Wireless)    12\n",
       "U&i Titanic Series - Low Price Bluetooth Neckband Bluetooth Headset  (Black, In the Ear)                                                                                                  12\n",
       "Boult Audio ProBass XCharge with Zen Tech ENC mic 20H Playtime, Ultra-Fast Charging Bluetooth Headset  (Black, In the Ear)                                                                12\n",
       "TXOR SENSO V 1.0 TWS EARBUDS, Bass+ 20 H Playtime & Fast Charging v5.1 Bluetooth Headset  (Metallic White, True Wireless)                                                                 11\n",
       "SENS CNATRA 2 TWS with Fast Charging Bluetooth Headset  (Phantom Black, True Wireless)                                                                                                    10\n",
       "TXOR SENSO V 1.0 TWS EARBUDS, Bass+ 20 H Play time & Fast Charging v 5.1 Bluetooth Headset  (Black, True Wireless)                                                                         9\n",
       "HOPPUP MONOBUD with Bluetooth 5.2 and Fast Charging Bluetooth Headset  (Black, True Wireless)                                                                                              6\n",
       "Apple AirPods(2nd gen) with Charging Case Bluetooth Headset with Mic  (White, True Wireless)                                                                                               2\n",
       "Nokia Headset T4010 Bluetooth Headset  (Midnight Black, On the Ear)                                                                                                                        2\n",
       "Boult Audio ProBass EQCharge with ZEN Mode ENC, 32hrs Playtime, Ultra-Fast Charging Bluetooth Headset  (Black, In the Ear)                                                                 2\n",
       "Name: title, dtype: int64"
      ]
     },
     "execution_count": 22,
     "metadata": {},
     "output_type": "execute_result"
    }
   ],
   "source": [
    "n = df['title'].value_counts()[:20]  \n",
    "n"
   ]
  },
  {
   "cell_type": "code",
   "execution_count": 28,
   "id": "8072226a",
   "metadata": {},
   "outputs": [],
   "source": [
    "li = df[df['title'] == 'Mivi DuoPods M30 earbuds with 42 hours of playtime | Made in India | Deep Bass Bluetooth Headset  (Black, True Wireless)'] "
   ]
  },
  {
   "cell_type": "code",
   "execution_count": 31,
   "id": "f0b6d396",
   "metadata": {},
   "outputs": [
    {
     "data": {
      "text/plain": [
       "0                      Boult Audio Audio Airbass X50 with Quad Mic ENC, 40H Playtime with Gaming Mode On Bluetooth Headset  (Black, True Wireless)\n",
       "1      Boult Audio Airbass Z35 with ZEN ENC Mic, 32H Playtime, 45ms Ultra-Low Latency Mode, 5.3 Bluetooth Headset  (Graphite Black, True Wireless)\n",
       "2              OnePlus Bullets Wireless Z2 with Fast Charge, 30 Hrs Battery Life, Earphones with mic Bluetooth Headset  (Magico Black, In the Ear)\n",
       "3                                                                           OnePlus Bullets Wireless Z2 Bluetooth Headset  (Beam Blue, In the Ear)\n",
       "4                                                                        OnePlus Bullets Wireless Z2 Bluetooth Headset  (Acoustic Red, In the Ear)\n",
       "                                                                          ...                                                                     \n",
       "995                                                       U&i Titanic Series - Low Price Bluetooth Neckband Bluetooth Headset  (Black, In the Ear)\n",
       "996                                                 fiado XG13 tws bluetooth 5.0 EarPods stereo wireless Bluetooth Headset  (Black, True Wireless)\n",
       "997                                                   FKU 5.0 Bluetooth NECKBAND WITH Memory Card Slot Bluetooth Headset  (Multicolor, In the Ear)\n",
       "998                     Fire-Boltt Fire Pods Ninja Pro 401 Earbuds TWS, IWP, Super Sync, Voice Assistant Bluetooth Headset  (White, True Wireless)\n",
       "999                        Mivi DuoPods M30 earbuds with 42 hours of playtime | Made in India | Deep Bass Bluetooth Headset  (Blue, True Wireless)\n",
       "Name: title, Length: 1000, dtype: object"
      ]
     },
     "execution_count": 31,
     "metadata": {},
     "output_type": "execute_result"
    }
   ],
   "source": [
    "title"
   ]
  },
  {
   "cell_type": "code",
   "execution_count": null,
   "id": "3a03642e",
   "metadata": {},
   "outputs": [],
   "source": []
  }
 ],
 "metadata": {
  "kernelspec": {
   "display_name": "Python 3 (ipykernel)",
   "language": "python",
   "name": "python3"
  },
  "language_info": {
   "codemirror_mode": {
    "name": "ipython",
    "version": 3
   },
   "file_extension": ".py",
   "mimetype": "text/x-python",
   "name": "python",
   "nbconvert_exporter": "python",
   "pygments_lexer": "ipython3",
   "version": "3.8.0"
  }
 },
 "nbformat": 4,
 "nbformat_minor": 5
}
