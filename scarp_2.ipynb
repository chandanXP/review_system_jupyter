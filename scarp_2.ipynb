{
 "cells": [
  {
   "cell_type": "code",
   "execution_count": 22,
   "id": "eee4fe47",
   "metadata": {},
   "outputs": [],
   "source": [
    "from autoscraper import AutoScraper "
   ]
  },
  {
   "cell_type": "code",
   "execution_count": 32,
   "id": "489f525f",
   "metadata": {},
   "outputs": [],
   "source": [
    "l = 'https://www.amazon.in/s?k=iphone&crid=10PAAV08C9Q65&sprefix=iphone%2Caps%2C1734&ref=nb_sb_noss_1'"
   ]
  },
  {
   "cell_type": "code",
   "execution_count": 33,
   "id": "2a7db095",
   "metadata": {},
   "outputs": [],
   "source": [
    "li = ['Apple iPhone 12 (128GB) - Blue', '57,999']"
   ]
  },
  {
   "cell_type": "code",
   "execution_count": 34,
   "id": "4f6cac27",
   "metadata": {},
   "outputs": [],
   "source": [
    "sc =AutoScraper()"
   ]
  },
  {
   "cell_type": "code",
   "execution_count": 35,
   "id": "1efd0176",
   "metadata": {},
   "outputs": [],
   "source": [
    "res = sc.build(l, li)"
   ]
  },
  {
   "cell_type": "code",
   "execution_count": 36,
   "id": "7dd20656",
   "metadata": {},
   "outputs": [
    {
     "name": "stdout",
     "output_type": "stream",
     "text": [
      "['Apple iPhone 12 (128GB) - Blue', 'Apple iPhone 12 (128GB) - Black', 'Apple iPhone 13 (128GB) - Pink', 'Apple iPhone 12 (128GB) - Purple', 'Apple iPhone 12 (128GB) - White', 'Apple iPhone 14 Pro 256GB Deep Purple', 'Apple iPhone 12 (64GB) - Black', 'Apple iPhone 12 (64GB) - Blue', 'Apple iPhone 13 (128GB) - (Product) RED', 'Apple iPhone 14 Pro 128GB Space Black', 'Apple iPhone 14 Pro 256GB Space Black', 'Apple iPhone 12 (64GB) - (Product) RED', 'Apple iPhone 13 Mini (128GB) - Starlight', 'Apple iPhone 12 (64GB) - White', 'Apple iPhone 14 Pro Max 128GB Gold', 'Apple iPhone 14 Pro Max 128GB Silver', '57,999', '61,999', '57,900', '1,39,900', '53,900', '1,24,999', '64,900', '1,34,999']\n"
     ]
    }
   ],
   "source": [
    "print(res)"
   ]
  },
  {
   "cell_type": "code",
   "execution_count": 37,
   "id": "0628a3cd",
   "metadata": {},
   "outputs": [
    {
     "data": {
      "text/plain": [
       "{'rule_7pdp': ['Apple iPhone 12 (128GB) - Blue',\n",
       "  'Apple iPhone 12 (128GB) - Black',\n",
       "  'Apple iPhone 13 (128GB) - Pink',\n",
       "  'Apple iPhone 12 (128GB) - Purple',\n",
       "  'Apple iPhone 12 (128GB) - White',\n",
       "  'Apple iPhone 14 Pro 256GB Deep Purple',\n",
       "  'Apple iPhone 12 (64GB) - Black',\n",
       "  'Apple iPhone 12 (64GB) - Blue',\n",
       "  'Apple iPhone 13 (128GB) - (Product) RED',\n",
       "  'Apple iPhone 14 Pro 128GB Space Black',\n",
       "  'Apple iPhone 14 Pro 256GB Space Black',\n",
       "  'Apple iPhone 12 (64GB) - (Product) RED',\n",
       "  'Apple iPhone 13 Mini (128GB) - Starlight',\n",
       "  'Apple iPhone 12 (64GB) - White',\n",
       "  'Apple iPhone 14 Pro Max 128GB Gold',\n",
       "  'Apple iPhone 14 Pro Max 128GB Silver'],\n",
       " 'rule_i60p': ['Apple iPhone 12 (128GB) - Blue',\n",
       "  'Apple iPhone 12 (128GB) - Black',\n",
       "  'Apple iPhone 13 (128GB) - Pink',\n",
       "  'Apple iPhone 12 (128GB) - Purple',\n",
       "  'Apple iPhone 12 (128GB) - White',\n",
       "  'Apple iPhone 14 Pro 256GB Deep Purple',\n",
       "  'Apple iPhone 12 (64GB) - Black',\n",
       "  'Apple iPhone 12 (64GB) - Blue',\n",
       "  'Apple iPhone 13 (128GB) - (Product) RED',\n",
       "  'Apple iPhone 14 Pro 128GB Space Black',\n",
       "  'Apple iPhone 14 Pro 256GB Space Black',\n",
       "  'Apple iPhone 12 (64GB) - (Product) RED',\n",
       "  'Apple iPhone 13 Mini (128GB) - Starlight',\n",
       "  'Apple iPhone 12 (64GB) - White',\n",
       "  'Apple iPhone 14 Pro Max 128GB Gold',\n",
       "  'Apple iPhone 14 Pro Max 128GB Silver'],\n",
       " 'rule_fyzb': ['Apple iPhone 13 (128GB) - (Product) RED',\n",
       "  'Apple iPhone 12 (128GB) - Blue'],\n",
       " 'rule_x5hw': ['57,999',\n",
       "  '57,999',\n",
       "  '61,999',\n",
       "  '57,900',\n",
       "  '57,999',\n",
       "  '1,39,900',\n",
       "  '53,900',\n",
       "  '53,900',\n",
       "  '61,999',\n",
       "  '1,24,999',\n",
       "  '1,39,900',\n",
       "  '53,900',\n",
       "  '64,900',\n",
       "  '53,900',\n",
       "  '1,34,999',\n",
       "  '1,34,999'],\n",
       " 'rule_5b2m': ['57,999',\n",
       "  '57,999',\n",
       "  '61,999',\n",
       "  '57,900',\n",
       "  '57,999',\n",
       "  '1,39,900',\n",
       "  '53,900',\n",
       "  '53,900',\n",
       "  '61,999',\n",
       "  '1,24,999',\n",
       "  '1,39,900',\n",
       "  '53,900',\n",
       "  '64,900',\n",
       "  '53,900',\n",
       "  '1,34,999',\n",
       "  '1,34,999'],\n",
       " 'rule_e2v7': ['57,999',\n",
       "  '57,999',\n",
       "  '61,999',\n",
       "  '57,900',\n",
       "  '57,999',\n",
       "  '1,39,900',\n",
       "  '53,900',\n",
       "  '53,900',\n",
       "  '61,999',\n",
       "  '1,24,999',\n",
       "  '1,39,900',\n",
       "  '53,900',\n",
       "  '64,900',\n",
       "  '53,900',\n",
       "  '1,34,999',\n",
       "  '1,34,999'],\n",
       " 'rule_1384': ['61,999', '57,999']}"
      ]
     },
     "execution_count": 37,
     "metadata": {},
     "output_type": "execute_result"
    }
   ],
   "source": [
    " sc.get_result_similar(l, grouped = True)"
   ]
  },
  {
   "cell_type": "code",
   "execution_count": null,
   "id": "c8f8f95d",
   "metadata": {},
   "outputs": [],
   "source": []
  }
 ],
 "metadata": {
  "kernelspec": {
   "display_name": "Python 3 (ipykernel)",
   "language": "python",
   "name": "python3"
  },
  "language_info": {
   "codemirror_mode": {
    "name": "ipython",
    "version": 3
   },
   "file_extension": ".py",
   "mimetype": "text/x-python",
   "name": "python",
   "nbconvert_exporter": "python",
   "pygments_lexer": "ipython3",
   "version": "3.8.0"
  }
 },
 "nbformat": 4,
 "nbformat_minor": 5
}
