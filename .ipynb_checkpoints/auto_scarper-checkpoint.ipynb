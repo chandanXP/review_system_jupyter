{
 "cells": [
  {
   "cell_type": "code",
   "execution_count": 6,
   "id": "b569591d",
   "metadata": {},
   "outputs": [],
   "source": [
    "from autoscraper import AutoScraper "
   ]
  },
  {
   "cell_type": "code",
   "execution_count": 10,
   "id": "b32e7da6",
   "metadata": {},
   "outputs": [],
   "source": [
    "a_url='https://www.amazon.in/s?k=earphone'"
   ]
  },
  {
   "cell_type": "code",
   "execution_count": 50,
   "id": "38921bfc",
   "metadata": {},
   "outputs": [],
   "source": [
    "li = [\"boAt BassHeads 100 in-Ear Wired Headphones with Mic (Black)\", \"349\",]"
   ]
  },
  {
   "cell_type": "code",
   "execution_count": 51,
   "id": "e5df74da",
   "metadata": {},
   "outputs": [],
   "source": [
    "sc  = AutoScraper()\n",
    "res = sc.build(a_url, li)"
   ]
  },
  {
   "cell_type": "code",
   "execution_count": 52,
   "id": "a269da5c",
   "metadata": {},
   "outputs": [
    {
     "name": "stdout",
     "output_type": "stream",
     "text": [
      "['boAt BassHeads 100 in-Ear Wired Headphones with Mic (Black)', 'OnePlus Bullets Z2 Bluetooth Wireless in Ear Earphones with Mic, Bombastic Bass - 12.4 Mm Drivers, 10 Mins Charge - 20 Hrs Music, 30 Hrs Battery Life (Magico Black)', 'boAt BassHeads 122 Wired Earphones with Heavy Bass, Integrated Controls and Mic (Gun Metal)', 'boAt Bassheads 152 in Ear Wired Earphones with Mic(Jazzy Blue)', 'OnePlus Nord Buds True Wireless in Ear Earbuds with Mic, 12.4mm Titanium Drivers, Playback:Up to 30hr case, 4-Mic Design + AI Noise Cancellation, IP55 Rating, Fast Charging (Black Slate)', 'CrossBeats Newly launched shuffl Neckband Environmental Noise Cancelling 13mm Drivers EchoBlastTM, Fast Charging with SnapChargeTM, Up to 72Hrs Playtime 40ms Low Latency Earphone—Black', 'Beats Fit Pro – True Wireless Noise Cancelling Earbuds – Active Noise Cancelling - Sweat Resistant Earphones, Compatible with Apple & Android, Class 1 Bluetooth®, Built-in Microphone – Sage Grey', 'Beats Fit Pro – True Wireless Noise Cancelling Earbuds – Active Noise Cancelling - Sweat Resistant Earphones, Compatible with Apple & Android, Class 1 Bluetooth®, Built-in Microphone – White', 'OnePlus Bullets Z2 Bluetooth Wireless in Ear Earphones with Mic, Bombastic Bass - 12.4 Mm Drivers, 10 Mins Charge - 20 Hrs...', 'OnePlus Nord Buds True Wireless in Ear Earbuds with Mic, 12.4mm Titanium Drivers, Playback:Up to 30hr case, 4-Mic Design +...', 'CrossBeats Newly launched shuffl Neckband Environmental Noise Cancelling 13mm Drivers EchoBlastTM, Fast Charging with SnapC...', 'Beats Fit Pro – True Wireless Noise Cancelling Earbuds – Active Noise Cancelling - Sweat Resistant Earphones, Compatible w...', 'Amazon\\'s Choicefor \"earphones\"', 'JBL C50HI, Wired in Ear Headphones with Mic, One Button Multi-Function Remote, Lightweight & Comfortable fit (Black)', 'ZEBRONICS Zeb-Bro in Ear Wired Earphones with Mic, 3.5mm Audio Jack, 10mm Drivers, Phone/Tablet Compatible(Black)', 'OnePlus Bullets Z2 Bluetooth Wireless Earphones with Mic, Bombastic Bass - 12.4 Mm Drivers, 10 Mins Charge - 20 Hrs Music, 30 Hrs Battery Life (Beam Blue)', 'OnePlus Nord Wired Earphones with mic, 3.5mm Audio Jack, Enhanced bass with 9.2mm Dynamic Drivers, in-Ear Wired Earphone - Black', 'boAt Bassheads 100 in Ear Wired Earphones with Mic(Taffy Pink)', 'PTron Pride Lite HBE (High Bass Earphones) in Ear Wired Earphones with Mic, 10mm Powerful Driver for Stereo Audio, Noise Cancelling Headset with 1.2m Tangle-Free Cable & 3.5mm Aux - (Blue)', 'boAt Rockerz 330 Bluetooth Wireless in Ear Earphones with mic, Upto 30 Hours Playtime, ASAP Charge, Signature Sound, Dual Pairing & IPX5(Navy Blue)', 'Infinity (JBL Glide 120, in Ear Wireless Earphones with Mic, Deep Bass, Dual Equalizer, 12mm Drivers, Premium Metal Earbuds, Comfortable Flex Neckband, Bluetooth 5.0, IPX5 Sweatproof (Black & Yellow)', 'boAt Bassheads 242 in Ear Wired Earphones with Mic(Spirit Lime)', 'ZEBRONICS Zeb-Buds 30 3.5Mm Stereo Wired in Ear Earphones with Mic for Calling, Volume Control, Multifunction Button, 14Mm Drivers, Stylish Eartip,1.2 Meter Durable Cable and Lightweight Design(Red)', 'boAt Bassheads 225 in Ear Wired Earphones with Mic(Blue)', 'Mivi Rock and Roll E5 Wired In Ear Earphones with HD Sound and Extra Powerful Bass with Mic, Tangle Free & Extra Length Cable | Earphones for Mobile | Black', 'ZEBRONICS Zeb-Bro in Ear Wired Earphones with Mic, 3.5mm Audio Jack, 10mm Drivers, Phone/Tablet Compatible(Green)', 'OnePlus Bullets Z2 Bluetooth Wireless Earphones with Mic, Bombastic Bass - 12.4 Mm Drivers, 10 Mins Charge - 20 Hrs Music,...', 'OnePlus Nord Wired Earphones with mic, 3.5mm Audio Jack, Enhanced bass with 9.2mm Dynamic Drivers, in-Ear Wired Earphone -...', 'PTron Pride Lite HBE (High Bass Earphones) in Ear Wired Earphones with Mic, 10mm Powerful Driver for Stereo Audio, Noise C...', 'boAt Rockerz 330 Bluetooth Wireless in Ear Earphones with mic, Upto 30 Hours Playtime, ASAP Charge, Signature Sound, Dual ...', 'Infinity (JBL Glide 120, in Ear Wireless Earphones with Mic, Deep Bass, Dual Equalizer, 12mm Drivers, Premium Metal Earbud...', 'ZEBRONICS Zeb-Buds 30 3.5Mm Stereo Wired in Ear Earphones with Mic for Calling, Volume Control, Multifunction Button, 14Mm...', 'Mivi Rock and Roll E5 Wired In Ear Earphones with HD Sound and Extra Powerful Bass with Mic, Tangle Free & Extra Length Ca...', 'boAt Airdopes 141 Bluetooth Truly Wireless in Ear Earbuds with mic, 42H Playtime, Beast Mode(Low Latency Upto 80ms) for Gaming, ENx Tech, ASAP Charge, IWP, IPX4 Water Resistance (Bold Black)', 'boAt Bassheads 220 in Ear Earphones(Black Indi)', 'boAt Rockerz 103 Pro Bluetooth Neckband with BeastTM Mode(40ms Low Latency), ENxTM Tech, ASAPTM Charge(Fast Charge), Upto 20HRS Playback, Signature Sound, BT v5.3 & IPX4(Active Black)', 'boAt Airdopes 121v2 in-Ear True Wireless Earbuds with Upto 14 Hours Playback, 8MM Drivers, Battery Indicators, Lightweight Earbuds & Multifunction Controls (Active Black, with Mic)', '349', '1,699', '399', '499', '2,399', '21,500', '22,271', '149', '599', '363', '229', '1,599', '999', '199', '699', '249', '1,499', '1,199', '1,299']\n"
     ]
    }
   ],
   "source": [
    "print(res)"
   ]
  },
  {
   "cell_type": "code",
   "execution_count": 53,
   "id": "0f375c99",
   "metadata": {},
   "outputs": [
    {
     "data": {
      "text/plain": [
       "{'rule_xftb': [],\n",
       " 'rule_thi7': [],\n",
       " 'rule_owmd': ['Amazon\\'s Choicefor \"earphones\"',\n",
       "  'boAt BassHeads 100 in-Ear Wired Headphones with Mic (Black)',\n",
       "  'JBL C50HI, Wired in Ear Headphones with Mic, One Button Multi-Function Remote, Lightweight & Comfortable fit (Black)',\n",
       "  'ZEBRONICS Zeb-Bro in Ear Wired Earphones with Mic, 3.5mm Audio Jack, 10mm Drivers, Phone/Tablet Compatible(Black)',\n",
       "  'boAt BassHeads 122 Wired Earphones with Heavy Bass, Integrated Controls and Mic (Gun Metal)',\n",
       "  'OnePlus Bullets Z2 Bluetooth Wireless Earphones with Mic, Bombastic Bass - 12.4 Mm Drivers, 10 Mins Charge - 20 Hrs Music, 30 Hrs Battery Life (Beam Blue)',\n",
       "  'OnePlus Nord Wired Earphones with mic, 3.5mm Audio Jack, Enhanced bass with 9.2mm Dynamic Drivers, in-Ear Wired Earphone - Black',\n",
       "  'boAt Bassheads 152 in Ear Wired Earphones with Mic(Jazzy Blue)',\n",
       "  'boAt Bassheads 100 in Ear Wired Earphones with Mic(Taffy Pink)',\n",
       "  'PTron Pride Lite HBE (High Bass Earphones) in Ear Wired Earphones with Mic, 10mm Powerful Driver for Stereo Audio, Noise Cancelling Headset with 1.2m Tangle-Free Cable & 3.5mm Aux - (Blue)',\n",
       "  'boAt Rockerz 330 Bluetooth Wireless in Ear Earphones with mic, Upto 30 Hours Playtime, ASAP Charge, Signature Sound, Dual Pairing & IPX5(Navy Blue)',\n",
       "  'Infinity (JBL Glide 120, in Ear Wireless Earphones with Mic, Deep Bass, Dual Equalizer, 12mm Drivers, Premium Metal Earbuds, Comfortable Flex Neckband, Bluetooth 5.0, IPX5 Sweatproof (Black & Yellow)',\n",
       "  'boAt Bassheads 242 in Ear Wired Earphones with Mic(Spirit Lime)',\n",
       "  'ZEBRONICS Zeb-Buds 30 3.5Mm Stereo Wired in Ear Earphones with Mic for Calling, Volume Control, Multifunction Button, 14Mm Drivers, Stylish Eartip,1.2 Meter Durable Cable and Lightweight Design(Red)',\n",
       "  'boAt Bassheads 225 in Ear Wired Earphones with Mic(Blue)',\n",
       "  'Mivi Rock and Roll E5 Wired In Ear Earphones with HD Sound and Extra Powerful Bass with Mic, Tangle Free & Extra Length Cable | Earphones for Mobile | Black',\n",
       "  'ZEBRONICS Zeb-Bro in Ear Wired Earphones with Mic, 3.5mm Audio Jack, 10mm Drivers, Phone/Tablet Compatible(Green)'],\n",
       " 'rule_4bky': ['boAt BassHeads 100 in-Ear Wired Headphones with Mic (Black)',\n",
       "  'JBL C50HI, Wired in Ear Headphones with Mic, One Button Multi-Function Remote, Lightweight & Comfortable fit (Black)',\n",
       "  'ZEBRONICS Zeb-Bro in Ear Wired Earphones with Mic, 3.5mm Audio Jack, 10mm Drivers, Phone/Tablet Compatible(Black)',\n",
       "  'boAt BassHeads 122 Wired Earphones with Heavy Bass, Integrated Controls and Mic (Gun Metal)',\n",
       "  'OnePlus Bullets Z2 Bluetooth Wireless Earphones with Mic, Bombastic Bass - 12.4 Mm Drivers, 10 Mins Charge - 20 Hrs Music,...',\n",
       "  'OnePlus Nord Wired Earphones with mic, 3.5mm Audio Jack, Enhanced bass with 9.2mm Dynamic Drivers, in-Ear Wired Earphone -...',\n",
       "  'boAt Bassheads 152 in Ear Wired Earphones with Mic(Jazzy Blue)',\n",
       "  'boAt Bassheads 100 in Ear Wired Earphones with Mic(Taffy Pink)',\n",
       "  'PTron Pride Lite HBE (High Bass Earphones) in Ear Wired Earphones with Mic, 10mm Powerful Driver for Stereo Audio, Noise C...',\n",
       "  'boAt Rockerz 330 Bluetooth Wireless in Ear Earphones with mic, Upto 30 Hours Playtime, ASAP Charge, Signature Sound, Dual ...',\n",
       "  'Infinity (JBL Glide 120, in Ear Wireless Earphones with Mic, Deep Bass, Dual Equalizer, 12mm Drivers, Premium Metal Earbud...',\n",
       "  'boAt Bassheads 242 in Ear Wired Earphones with Mic(Spirit Lime)',\n",
       "  'ZEBRONICS Zeb-Buds 30 3.5Mm Stereo Wired in Ear Earphones with Mic for Calling, Volume Control, Multifunction Button, 14Mm...',\n",
       "  'boAt Bassheads 225 in Ear Wired Earphones with Mic(Blue)',\n",
       "  'Mivi Rock and Roll E5 Wired In Ear Earphones with HD Sound and Extra Powerful Bass with Mic, Tangle Free & Extra Length Ca...',\n",
       "  'ZEBRONICS Zeb-Bro in Ear Wired Earphones with Mic, 3.5mm Audio Jack, 10mm Drivers, Phone/Tablet Compatible(Green)'],\n",
       " 'rule_anng': ['OnePlus Nord Wired Earphones with mic, 3.5mm Audio Jack, Enhanced bass with 9.2mm Dynamic Drivers, in-Ear Wired Earphone - Black',\n",
       "  'boAt BassHeads 100 in-Ear Wired Headphones with Mic (Black)',\n",
       "  'boAt Airdopes 141 Bluetooth Truly Wireless in Ear Earbuds with mic, 42H Playtime, Beast Mode(Low Latency Upto 80ms) for Gaming, ENx Tech, ASAP Charge, IWP, IPX4 Water Resistance (Bold Black)',\n",
       "  'boAt Bassheads 220 in Ear Earphones(Black Indi)',\n",
       "  'boAt Rockerz 103 Pro Bluetooth Neckband with BeastTM Mode(40ms Low Latency), ENxTM Tech, ASAPTM Charge(Fast Charge), Upto 20HRS Playback, Signature Sound, BT v5.3 & IPX4(Active Black)',\n",
       "  'boAt Airdopes 121v2 in-Ear True Wireless Earbuds with Upto 14 Hours Playback, 8MM Drivers, Battery Indicators, Lightweight Earbuds & Multifunction Controls (Active Black, with Mic)'],\n",
       " 'rule_k6de': [],\n",
       " 'rule_2jjh': ['349',\n",
       "  '399',\n",
       "  '149',\n",
       "  '399',\n",
       "  '1,699',\n",
       "  '599',\n",
       "  '499',\n",
       "  '363',\n",
       "  '229',\n",
       "  '1,599',\n",
       "  '999',\n",
       "  '599',\n",
       "  '199',\n",
       "  '699',\n",
       "  '249',\n",
       "  '149'],\n",
       " 'rule_t6df': ['599', '349', '1,499', '599', '1,199', '1,299']}"
      ]
     },
     "execution_count": 53,
     "metadata": {},
     "output_type": "execute_result"
    }
   ],
   "source": [
    "sc.get_result_similar(a_url, grouped = True)"
   ]
  },
  {
   "cell_type": "code",
   "execution_count": 65,
   "id": "e1e7b72d",
   "metadata": {},
   "outputs": [],
   "source": [
    "sc.set_rule_aliases({'rule_owmd': 'title', 'rule_2jjh' : 'price'})\n",
    "sc.keep_rules({'rule_owmd', 'rule_2jjh'})\n",
    "sc.save('amazon-search')\n",
    " "
   ]
  },
  {
   "cell_type": "code",
   "execution_count": 66,
   "id": "3a8ef79b",
   "metadata": {},
   "outputs": [],
   "source": [
    "res = sc.get_result_similar('https://www.amazon.in/s?k=gaming+headphones', group_by_alias=True)"
   ]
  },
  {
   "cell_type": "code",
   "execution_count": 67,
   "id": "18b08255",
   "metadata": {},
   "outputs": [
    {
     "data": {
      "text/plain": [
       "['Amazon\\'s Choicefor \"gaming headphones\"',\n",
       " 'Redgear Cosmo 7,1 Usb Gaming Wired Over Ear Headphones With Mic With Virtual Surround Sound,50Mm Driver, Rgb Leds & Remote Control(Black)',\n",
       " 'Redgear Cosmo 7,1 USB Gaming Wired Over Ear Headphones with Mic with Virtual Surround Sound,50Mm Driver, RGB LEDs & Remote Control(White)',\n",
       " 'Redgear Cloak Wired RGB Wired Over Ear Gaming Headphones with Mic for PC',\n",
       " 'Cosmic Byte GS430 Gaming wired over ear Headphone, 7 Color RGB LED and Microphone',\n",
       " 'Zebronics Jet PRO Premium Wired Gaming On Ear Headphone with LED for Headband + earcups, 40mm Neodymium Drivers, 2 Meter Braided Cable, with mic, Suspension Design, 3.5mm + USB Connector (Black, Blue)',\n",
       " 'Ant Esports H1100 Pro RGB Wired Over Ear Gaming Headphones for PC / PS4 / PS5 / Xbox One / Switch1 with mic Frost White',\n",
       " 'HyperX Cloud Stinger Wired Over Ear Gamming Headphones with Mic Black',\n",
       " 'boAt Immortal IM1000D Dual Channel Gaming Wired Over Ear Headphones with mic, 7.1 Channel Surround Audio, Dolby Atmos, 50mm Drivers & RGB Breathing LEDs(Black Sabre)',\n",
       " 'boAt Immortal IM1000D Dual Channel Gaming Wired Over Ear Headphones with mic, 7.1 Channel Surround Audio, Dolby Atmos, 50mm Drivers & RGB Breathing LEDs(White Sabre)',\n",
       " 'Cosmic Byte H11 Gaming Wired Over-ear Headset with Microphone (Black/Orange, Pack Of 1)',\n",
       " 'Cosmic Byte GS430 Gaming Headphone, 7 Color RGB LED and Microphone for PC, PS5, Xbox, Mobiles, Tablets, Laptops (Red)',\n",
       " 'ZEBRONICS Zeb-Blitz USB Gaming Wired On Ear Headphones with Mic with Dolby Atmos, RGB Led, Windows Software, Simulated 7.1 Surround Sound, 2.4 Meter Braided Cable Flexible Padded Ear Cushions(Black)',\n",
       " 'Cosmic Byte GS430 Gaming Headphone, 7 Color RGB LED and Microphone for PC, PS5, Xbox Series 5, Mobiles, Tablets, Laptops (Green)',\n",
       " 'HyperX Cloud Stinger Core - Gaming Headset for PlayStation 4 and PlayStation 5, Over-Ear Wired Headset with Mic, Passive Noise Cancelling, In-Line Audio Control, Black (HX-HSCSC-BK)',\n",
       " 'Cosmic Byte G2050 RGB 7.1 Surround Sound USB Gaming Headphone for PS5, PC with Software and Gel Microphone (Blue)',\n",
       " 'Lenovo Ideapad H100 Wired Over Ear Headphones with Mic (Clear)']"
      ]
     },
     "execution_count": 67,
     "metadata": {},
     "output_type": "execute_result"
    }
   ],
   "source": [
    "res['title']"
   ]
  },
  {
   "cell_type": "code",
   "execution_count": 68,
   "id": "41de9307",
   "metadata": {},
   "outputs": [
    {
     "data": {
      "text/plain": [
       "['1,699',\n",
       " '1,899',\n",
       " '799',\n",
       " '799',\n",
       " '949',\n",
       " '1,199',\n",
       " '3,100',\n",
       " '2,699',\n",
       " '2,699',\n",
       " '749',\n",
       " '902.',\n",
       " '1,999',\n",
       " '1,049',\n",
       " '3,090',\n",
       " '1,691',\n",
       " '1,499']"
      ]
     },
     "execution_count": 68,
     "metadata": {},
     "output_type": "execute_result"
    }
   ],
   "source": [
    "res['price']"
   ]
  },
  {
   "cell_type": "code",
   "execution_count": null,
   "id": "b0d5c300",
   "metadata": {},
   "outputs": [],
   "source": []
  }
 ],
 "metadata": {
  "kernelspec": {
   "display_name": "Python 3 (ipykernel)",
   "language": "python",
   "name": "python3"
  },
  "language_info": {
   "codemirror_mode": {
    "name": "ipython",
    "version": 3
   },
   "file_extension": ".py",
   "mimetype": "text/x-python",
   "name": "python",
   "nbconvert_exporter": "python",
   "pygments_lexer": "ipython3",
   "version": "3.8.0"
  }
 },
 "nbformat": 4,
 "nbformat_minor": 5
}
