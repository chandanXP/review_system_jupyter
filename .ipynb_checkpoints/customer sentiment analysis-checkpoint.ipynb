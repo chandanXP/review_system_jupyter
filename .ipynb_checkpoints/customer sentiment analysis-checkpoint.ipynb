{
 "cells": [
  {
   "cell_type": "code",
   "execution_count": 1,
   "id": "05441e9a",
   "metadata": {},
   "outputs": [],
   "source": [
    "from nltk.tokenize import sent_tokenize, word_tokenize\n",
    "import warnings\n",
    " \n",
    "warnings.filterwarnings(action = 'ignore')\n",
    " \n",
    "import gensim\n",
    "from gensim.models import Word2Vec"
   ]
  },
  {
   "cell_type": "code",
   "execution_count": 2,
   "id": "f96b76ab",
   "metadata": {},
   "outputs": [],
   "source": [
    "import pandas as pd"
   ]
  },
  {
   "cell_type": "code",
   "execution_count": 3,
   "id": "51dcda79",
   "metadata": {},
   "outputs": [],
   "source": [
    "df= pd.read_csv(\"Flipkart_Reviews - Electronics.csv\")"
   ]
  },
  {
   "cell_type": "code",
   "execution_count": 4,
   "id": "a4438f83",
   "metadata": {},
   "outputs": [],
   "source": [
    "# sample = open(\"C:\\\\Users\\\\Admin\\\\Desktop\\\\alice.txt\", \"utf8\")\n",
    "# s = sample.read()"
   ]
  },
  {
   "cell_type": "code",
   "execution_count": 5,
   "id": "be317f3b",
   "metadata": {},
   "outputs": [
    {
     "data": {
      "text/plain": [
       "BoAt Rockerz 235v2 with ASAP charging Version 5.0 Bluetooth Headset    1921\n",
       "realme Buds Wireless Bluetooth Headset                                  980\n",
       "OnePlus Bullets Wireless Z Bluetooth Headset                            980\n",
       "realme Buds 2 Wired Headset                                             977\n",
       "BoAt BassHeads 100 Wired Headset                                        969\n",
       "OnePlus Bullets Wireless Z Bass Edition Bluetooth Headset               923\n",
       "realme Buds Q Bluetooth Headset                                         884\n",
       "BoAt Airdopes 131 Bluetooth Headset                                     882\n",
       "U&I Titanic Series - Low Price Bluetooth Neckband Bluetooth Headset     858\n",
       "Name: product_title, dtype: int64"
      ]
     },
     "execution_count": 5,
     "metadata": {},
     "output_type": "execute_result"
    }
   ],
   "source": [
    "n = df['product_title'].value_counts()[:10]  \n",
    "n\n"
   ]
  },
  {
   "cell_type": "code",
   "execution_count": 6,
   "id": "10b0b9f0",
   "metadata": {},
   "outputs": [],
   "source": [
    "a =[\n",
    " \n",
    "]"
   ]
  },
  {
   "cell_type": "code",
   "execution_count": null,
   "id": "6a00d511",
   "metadata": {},
   "outputs": [],
   "source": [
    " "
   ]
  },
  {
   "cell_type": "code",
   "execution_count": 7,
   "id": "04e41302",
   "metadata": {},
   "outputs": [],
   "source": [
    " import numpy as np"
   ]
  },
  {
   "cell_type": "code",
   "execution_count": 8,
   "id": "1b685529",
   "metadata": {},
   "outputs": [
    {
     "name": "stdout",
     "output_type": "stream",
     "text": [
      "['1-more', 'flexible2-bass', 'is', 'very', 'high3-sound', 'clarity', 'is', 'good', '4-battery', 'back', 'up', 'to', '6', 'to', '8', \"hour's\", '5-main', 'thing', 'is', 'fastest', 'charging', 'system', 'is', 'available', 'in', 'that.', 'Only', '20', 'min', 'charge', 'and', 'get', 'long', 'up', 'to', '4', 'hours', 'back', 'up', '6-killing', 'look', 'awesome', '7-for', 'gaming', 'that', 'product', 'does', 'not', 'support', '100%', 'if', 'you', 'want', 'for', 'gaming', 'then', \"I'll\", 'recommend', 'you', 'please', \"don't\", 'buy', 'but', 'you', 'want', 'for', 'only', 'music', 'then', 'this', 'product', 'is', 'very', 'well', 'for', 'you..', '8-no', 'more', 'wireless', 'headphones', 'are', 'comparing', 'with', 'that', 'headphones', 'at', 'this', 'pric...']\n"
     ]
    }
   ],
   "source": [
    "from collections import Counter\n",
    "most_comm = \" \".join(df[\"review\"]) \n",
    "rev = df[\"review\"].tolist()\n",
    "\n",
    "bigl = []\n",
    "for ele in rev:\n",
    "    bigl.append(ele.split())\n",
    "\n",
    "print(bigl[0])\n",
    "\n"
   ]
  },
  {
   "cell_type": "code",
   "execution_count": 9,
   "id": "69e0b629",
   "metadata": {},
   "outputs": [],
   "source": [
    "model1 = gensim.models.Word2Vec(bigl, min_count = 1, vector_size = 100, window = 5)"
   ]
  },
  {
   "cell_type": "code",
   "execution_count": 10,
   "id": "fd4492a8",
   "metadata": {},
   "outputs": [
    {
     "name": "stdout",
     "output_type": "stream",
     "text": [
      "0.7293565\n"
     ]
    }
   ],
   "source": [
    "#requires nxn matrix\n",
    "print( model1.wv.similarity('device', 'good'))"
   ]
  },
  {
   "cell_type": "code",
   "execution_count": 11,
   "id": "34aab77d",
   "metadata": {},
   "outputs": [
    {
     "name": "stdout",
     "output_type": "stream",
     "text": [
      "0.9622521\n"
     ]
    }
   ],
   "source": [
    " print( model1.wv.similarity('quality', 'sound'))"
   ]
  },
  {
   "cell_type": "code",
   "execution_count": 12,
   "id": "5a1383a4",
   "metadata": {},
   "outputs": [
    {
     "name": "stdout",
     "output_type": "stream",
     "text": [
      "0.955606\n"
     ]
    }
   ],
   "source": [
    " print( model1.wv.similarity('good', 'sound'))"
   ]
  },
  {
   "cell_type": "code",
   "execution_count": 13,
   "id": "ab5ffe40",
   "metadata": {},
   "outputs": [
    {
     "name": "stdout",
     "output_type": "stream",
     "text": [
      "0.73589844\n"
     ]
    }
   ],
   "source": [
    " print( model1.wv.similarity('price', 'high'))"
   ]
  },
  {
   "cell_type": "code",
   "execution_count": 14,
   "id": "a05538c6",
   "metadata": {},
   "outputs": [
    {
     "name": "stdout",
     "output_type": "stream",
     "text": [
      "0.808747\n"
     ]
    }
   ],
   "source": [
    "  print( model1.wv.similarity('price', 'low'))"
   ]
  },
  {
   "cell_type": "code",
   "execution_count": 15,
   "id": "aa19493b",
   "metadata": {},
   "outputs": [
    {
     "name": "stdout",
     "output_type": "stream",
     "text": [
      "0.9937024\n"
     ]
    }
   ],
   "source": [
    "  print( model1.wv.similarity('wireless', 'headphones'))"
   ]
  },
  {
   "cell_type": "code",
   "execution_count": 16,
   "id": "242c8912",
   "metadata": {},
   "outputs": [
    {
     "name": "stdout",
     "output_type": "stream",
     "text": [
      "0.95065975\n"
     ]
    }
   ],
   "source": [
    "  print( model1.wv.similarity(\"don't\", 'buy'))"
   ]
  },
  {
   "cell_type": "code",
   "execution_count": 17,
   "id": "23242752",
   "metadata": {},
   "outputs": [
    {
     "name": "stdout",
     "output_type": "stream",
     "text": [
      "0.87612385\n"
     ]
    }
   ],
   "source": [
    " print( model1.wv.similarity('should', 'buy'))"
   ]
  },
  {
   "cell_type": "code",
   "execution_count": 18,
   "id": "c1461265",
   "metadata": {},
   "outputs": [
    {
     "name": "stdout",
     "output_type": "stream",
     "text": [
      "0.86560965\n"
     ]
    }
   ],
   "source": [
    " print( model1.wv.similarity('worst', 'product'))"
   ]
  },
  {
   "cell_type": "code",
   "execution_count": 19,
   "id": "e51f0a3b",
   "metadata": {},
   "outputs": [
    {
     "name": "stdout",
     "output_type": "stream",
     "text": [
      "0.91300327\n"
     ]
    }
   ],
   "source": [
    " print( model1.wv.similarity('best', 'product'))"
   ]
  },
  {
   "cell_type": "code",
   "execution_count": 20,
   "id": "3d23c54e",
   "metadata": {},
   "outputs": [],
   "source": [
    "factors = [\n",
    "    [\"delivery\", \"arrive\", \"delay\", \"fraud\", \"delivered\", \"wrong address\", \"not delivered\", \"delivered before\", 'consignment''distribution','shipment','transmission','carting','commitment','conveyance','dispatch','drop','mailing','portage','post','rendition','giving over','handing over','impartment','parcel','appear','enter','land','reach','report','access','buzz','bust in','check in','hit town','make it'],\n",
    "    [\"design\", \"comfortable\", \"look\", \"appearance\", \"light weight\", \"weight\", \"heavy\", \"font\", \"useful\",'architecture','arrangement','composition','construction','drawing','form','idea','layout','map','method','model','pattern','picture','plan','scheme','study','blueprint'],\n",
    "    [\"experience\", \"using\", \"useful\", \"easy to use\", \"user friendly\", \"handy\", \"quick\", \"fast\", \"slow\", \"waste\", \"comfortable\", 'anticipated','recognized','grasped','heard','noted','noticed','observed','sensed','touched','understood','witnessed','affection','anger','concern','desire','despair','empathy','excitement','feel','grief','happiness','joy','love','passion','pride','rage','sadness','sentiment','shame','sorrow','sympathy','warmth','affect','happy','excite'],\n",
    "    [\"price\", \"high price\", \"low price\", \"cheap\", \"budgeted\", \"feasible\", \"affordable\", \"sale\", \"offer\", \"cash\", \"cash back\", 'amount','bill','cost','demand','discount','estimate','expenditure','expense','fare','fee','figure','output','pay','payment','premium','rate','tariff','valuation','worth','expense'  ],\n",
    "    [\"quality\", \"material\", \"colour\", \"durable\", \"big\", \"small\", \"plastic\", \"leather\", \"metal\", \"metallic\", \"strong\", 'appearance','countenance','face','lineaments','looks','mien','mug','physic', 'smell', 'beaut', 'touch'],\n",
    "    [\"other\", \"warranty\", \"guarranty\", \"fake\", \"cutomer\", \"service\", 'feature']\n",
    "]"
   ]
  },
  {
   "cell_type": "code",
   "execution_count": 21,
   "id": "fff5f514",
   "metadata": {},
   "outputs": [],
   "source": [
    "df3 = df[df[\"rating\"] > 3] \n",
    "#df3"
   ]
  },
  {
   "cell_type": "code",
   "execution_count": 22,
   "id": "353b698a",
   "metadata": {},
   "outputs": [
    {
     "data": {
      "text/plain": [
       "0       1-more flexible2-bass is very high3-sound clar...\n",
       "1          Super sound and good looking I like that prize\n",
       "2       Very much satisfied with the device at this pr...\n",
       "3       Nice headphone, bass was very good and sound i...\n",
       "4       Sound quality super battery backup super quali...\n",
       "                              ...                        \n",
       "9369    this head phnes give good base in pluged ears ...\n",
       "9370    This so far is one of the best headphones I've...\n",
       "9371    I am a BASS LOVER and all others like me read ...\n",
       "9372    After use of one month........ It is an excell...\n",
       "9373    Excellent quality. it works so good. super hap...\n",
       "Name: review, Length: 7354, dtype: object"
      ]
     },
     "execution_count": 22,
     "metadata": {},
     "output_type": "execute_result"
    }
   ],
   "source": [
    "pos_rev = df3[\"review\"]\n",
    "pos_rev"
   ]
  },
  {
   "cell_type": "code",
   "execution_count": 23,
   "id": "f5886ddc",
   "metadata": {},
   "outputs": [],
   "source": [
    "stop_word =  {\",\", \".\", \"0o\", \"0s\", \"3a\", \"3b\", \"3d\", \"6b\", \"6o\", \"a\", \"a1\", \"a2\", \"a3\", \"a4\", \"ab\", \"able\", \"about\", \"above\", \"abst\", \"ac\", \"accordance\", \"according\", \"accordingly\", \"across\", \"act\", \"actually\", \"ad\", \"added\", \"adj\", \"ae\", \"af\", \"affected\", \"affecting\", \"affects\", \"after\", \"afterwards\", \"ag\", \"again\", \"against\", \"ah\", \"ain\", \"ain't\", \"aj\", \"al\", \"all\", \"allow\", \"allows\", \"almost\", \"alone\", \"along\", \"already\", \"also\", \"although\", \"always\", \"am\", \"among\", \"amongst\", \"amoungst\", \"amount\", \"an\", \"and\", \"announce\", \"another\", \"any\", \"anybody\", \"anyhow\", \"anymore\", \"anyone\", \"anything\", \"anyway\", \"anyways\", \"anywhere\", \"ao\", \"ap\", \"apart\", \"apparently\", \"appear\", \"appreciate\", \"appropriate\", \"approximately\", \"ar\", \"are\", \"aren\", \"arent\", \"aren't\", \"arise\", \"around\", \"as\", \"a's\", \"aside\", \"ask\", \"asking\", \"associated\", \"at\", \"au\", \"auth\", \"av\", \"available\", \"aw\", \"away\", \"awfully\", \"ax\", \"ay\", \"az\", \"b\", \"b1\", \"b2\", \"b3\", \"ba\", \"back\", \"bc\", \"bd\", \"be\", \"became\", \"because\", \"become\", \"becomes\", \"becoming\", \"been\", \"before\", \"beforehand\", \"begin\", \"beginning\", \"beginnings\", \"begins\", \"behind\", \"being\", \"believe\", \"below\", \"beside\", \"besides\", \"best\", \"better\", \"between\", \"beyond\", \"bi\", \"bill\", \"biol\", \"bj\", \"bk\", \"bl\", \"bn\", \"both\", \"bottom\", \"bp\", \"br\", \"brief\", \"briefly\", \"bs\", \"bt\", \"bu\", \"but\", \"bx\", \"by\", \"c\", \"c1\", \"c2\", \"c3\", \"ca\", \"call\", \"came\", \"can\", \"cannot\", \"cant\", \"can't\", \"cause\", \"causes\", \"cc\", \"cd\", \"ce\", \"certain\", \"certainly\", \"cf\", \"cg\", \"ch\", \"changes\", \"ci\", \"cit\", \"cj\", \"cl\", \"clearly\", \"cm\", \"c'mon\", \"cn\", \"co\", \"com\", \"come\", \"comes\", \"con\", \"concerning\", \"consequently\", \"consider\", \"considering\", \"contain\", \"containing\", \"contains\", \"corresponding\", \"could\", \"couldn\", \"couldnt\", \"couldn't\", \"course\", \"cp\", \"cq\", \"cr\", \"cry\", \"cs\", \"c's\", \"ct\", \"cu\", \"currently\", \"cv\", \"cx\", \"cy\", \"cz\", \"d\", \"d2\", \"da\", \"date\", \"dc\", \"dd\", \"de\", \"definitely\", \"describe\", \"described\", \"despite\", \"detail\", \"df\", \"di\", \"did\", \"didn\", \"didn't\", \"different\", \"dj\", \"dk\", \"dl\", \"do\", \"does\", \"doesn\", \"doesn't\", \"doing\", \"don\", \"done\", \"don't\", \"down\", \"downwards\", \"dp\", \"dr\", \"ds\", \"dt\", \"du\", \"due\", \"during\", \"dx\", \"dy\", \"e\", \"e2\", \"e3\", \"ea\", \"each\", \"ec\", \"ed\", \"edu\", \"ee\", \"ef\", \"effect\", \"eg\", \"ei\", \"eight\", \"eighty\", \"either\", \"ej\", \"el\", \"eleven\", \"else\", \"elsewhere\", \"em\", \"empty\", \"en\", \"end\", \"ending\", \"enough\", \"entirely\", \"eo\", \"ep\", \"eq\", \"er\", \"es\", \"especially\", \"est\", \"et\", \"et-al\", \"etc\", \"eu\", \"ev\", \"even\", \"ever\", \"every\", \"everybody\", \"everyone\", \"everything\", \"everywhere\", \"ex\", \"exactly\", \"example\", \"except\", \"ey\", \"f\", \"f2\", \"fa\", \"far\", \"fc\", \"few\", \"ff\", \"fi\", \"fifteen\", \"fifth\", \"fify\", \"fill\", \"find\", \"fire\", \"first\", \"five\", \"fix\", \"fj\", \"fl\", \"fn\", \"fo\", \"followed\", \"following\", \"follows\", \"for\", \"former\", \"formerly\", \"forth\", \"forty\", \"found\", \"four\", \"fr\", \"from\", \"front\", \"fs\", \"ft\", \"fu\", \"full\", \"further\", \"furthermore\", \"fy\", \"g\", \"ga\", \"gave\", \"ge\", \"get\", \"gets\", \"getting\", \"gi\", \"give\", \"given\", \"gives\", \"giving\", \"gj\", \"gl\", \"go\", \"goes\", \"going\", \"gone\", \"got\", \"gotten\", \"gr\", \"greetings\", \"gs\", \"gy\", \"h\", \"h2\", \"h3\", \"had\", \"hadn\", \"hadn't\", \"happens\", \"hardly\", \"has\", \"hasn\", \"hasnt\", \"hasn't\", \"have\", \"haven\", \"haven't\", \"having\", \"he\", \"hed\", \"he'd\", \"he'll\", \"hello\", \"help\", \"hence\", \"her\", \"here\", \"hereafter\", \"hereby\", \"herein\", \"heres\", \"here's\", \"hereupon\", \"hers\", \"herself\", \"hes\", \"he's\", \"hh\", \"hi\", \"hid\", \"him\", \"himself\", \"his\", \"hither\", \"hj\", \"ho\", \"home\", \"hopefully\", \"how\", \"howbeit\", \"however\", \"how's\", \"hr\", \"hs\", \"http\", \"hu\", \"hundred\", \"hy\", \"i\", \"i2\", \"i3\", \"i4\", \"i6\", \"i7\", \"i8\", \"ia\", \"ib\", \"ibid\", \"ic\", \"id\", \"i'd\", \"ie\", \"if\", \"ig\", \"ignored\", \"ih\", \"ii\", \"ij\", \"il\", \"i'll\", \"im\", \"i'm\", \"immediate\", \"immediately\", \"importance\", \"important\", \"in\", \"inasmuch\", \"inc\", \"indeed\", \"index\", \"indicate\", \"indicated\", \"indicates\", \"information\", \"inner\", \"insofar\", \"instead\", \"interest\", \"into\", \"invention\", \"inward\", \"io\", \"ip\", \"iq\", \"ir\", \"is\", \"isn\", \"isn't\", \"it\", \"itd\", \"it'd\", \"it'll\", \"its\", \"it's\", \"itself\", \"iv\", \"i've\", \"ix\", \"iy\", \"iz\", \"j\", \"jj\", \"jr\", \"js\", \"jt\", \"ju\", \"just\", \"k\", \"ke\", \"keep\", \"keeps\", \"kept\", \"kg\", \"kj\", \"km\", \"know\", \"known\", \"knows\", \"ko\", \"l\", \"l2\", \"la\", \"largely\", \"last\", \"lately\", \"later\", \"latter\", \"latterly\", \"lb\", \"lc\", \"le\", \"least\", \"les\", \"less\", \"lest\", \"let\", \"lets\", \"let's\", \"lf\", \"like\", \"liked\", \"likely\", \"line\", \"little\", \"lj\", \"ll\", \"ll\", \"ln\", \"lo\", \"look\", \"looking\", \"looks\", \"los\", \"lr\", \"ls\", \"lt\", \"ltd\", \"m\", \"m2\", \"ma\", \"made\", \"mainly\", \"make\", \"makes\", \"many\", \"may\", \"maybe\", \"me\", \"mean\", \"means\", \"meantime\", \"meanwhile\", \"merely\", \"mg\", \"might\", \"mightn\", \"mightn't\", \"mill\", \"million\", \"mine\", \"miss\", \"ml\", \"mn\", \"mo\", \"more\", \"moreover\", \"most\", \"mostly\", \"move\", \"mr\", \"mrs\", \"ms\", \"mt\", \"mu\", \"much\", \"mug\", \"must\", \"mustn\", \"mustn't\", \"my\", \"myself\", \"n\", \"n2\", \"na\", \"name\", \"namely\", \"nay\", \"nc\", \"nd\", \"ne\", \"near\", \"nearly\", \"necessarily\", \"necessary\", \"need\", \"needn\", \"needn't\", \"needs\", \"neither\", \"never\", \"nevertheless\", \"new\", \"next\", \"ng\", \"ni\", \"nine\", \"ninety\", \"nj\", \"nl\", \"nn\", \"no\", \"nobody\", \"non\", \"none\", \"nonetheless\", \"noone\", \"nor\", \"normally\", \"nos\", \"not\", \"noted\", \"nothing\", \"novel\", \"now\", \"nowhere\", \"nr\", \"ns\", \"nt\", \"ny\", \"o\", \"oa\", \"ob\", \"obtain\", \"obtained\", \"obviously\", \"oc\", \"od\", \"of\", \"off\", \"often\", \"og\", \"oh\", \"oi\", \"oj\", \"ok\", \"okay\", \"ol\", \"old\", \"om\", \"omitted\", \"on\", \"once\", \"one\", \"ones\", \"only\", \"onto\", \"oo\", \"op\", \"oq\", \"or\", \"ord\", \"os\", \"ot\", \"other\", \"others\", \"otherwise\", \"ou\", \"ought\", \"our\", \"ours\", \"ourselves\", \"out\", \"outside\", \"over\", \"overall\", \"ow\", \"owing\", \"own\", \"ox\", \"oz\", \"p\", \"p1\", \"p2\", \"p3\", \"page\", \"pagecount\", \"pages\", \"par\", \"part\", \"particular\", \"particularly\", \"pas\", \"past\", \"pc\", \"pd\", \"pe\", \"per\", \"perhaps\", \"pf\", \"ph\", \"pi\", \"pj\", \"pk\", \"pl\", \"placed\", \"please\", \"plus\", \"pm\", \"pn\", \"po\", \"poorly\", \"possible\", \"possibly\", \"potentially\", \"pp\", \"pq\", \"pr\", \"predominantly\", \"present\", \"presumably\", \"previously\", \"primarily\", \"probably\", \"promptly\", \"proud\", \"provides\", \"ps\", \"pt\", \"pu\", \"put\", \"py\", \"q\", \"qj\", \"qu\", \"que\", \"quickly\", \"quite\", \"qv\", \"r\", \"r2\", \"ra\", \"ran\", \"rather\", \"rc\", \"rd\", \"re\", \"readily\", \"really\", \"reasonably\", \"recent\", \"recently\", \"ref\", \"refs\", \"regarding\", \"regardless\", \"regards\", \"related\", \"relatively\", \"research\", \"research-articl\", \"respectively\", \"resulted\", \"resulting\", \"results\", \"rf\", \"rh\", \"ri\", \"right\", \"rj\", \"rl\", \"rm\", \"rn\", \"ro\", \"rq\", \"rr\", \"rs\", \"rt\", \"ru\", \"run\", \"rv\", \"ry\", \"s\", \"s2\", \"sa\", \"said\", \"same\", \"saw\", \"say\", \"saying\", \"says\", \"sc\", \"sd\", \"se\", \"sec\", \"second\", \"secondly\", \"section\", \"see\", \"seeing\", \"seem\", \"seemed\", \"seeming\", \"seems\", \"seen\", \"self\", \"selves\", \"sensible\", \"sent\", \"serious\", \"seriously\", \"seven\", \"several\", \"sf\", \"shall\", \"shan\", \"shan't\", \"she\", \"shed\", \"she'd\", \"she'll\", \"shes\", \"she's\", \"should\", \"shouldn\", \"shouldn't\", \"should've\", \"show\", \"showed\", \"shown\", \"showns\", \"shows\", \"si\", \"side\", \"significant\", \"significantly\", \"similar\", \"similarly\", \"since\", \"sincere\", \"six\", \"sixty\", \"sj\", \"sl\", \"slightly\", \"sm\", \"sn\", \"so\", \"some\", \"somebody\", \"somehow\", \"someone\", \"somethan\", \"something\", \"sometime\", \"sometimes\", \"somewhat\", \"somewhere\", \"soon\", \"sorry\", \"sp\", \"specifically\", \"specified\", \"specify\", \"specifying\", \"sq\", \"sr\", \"ss\", \"st\", \"still\", \"stop\", \"strongly\", \"sub\", \"substantially\", \"successfully\", \"such\", \"sufficiently\", \"suggest\", \"sup\", \"sure\", \"sy\", \"system\", \"sz\", \"t\", \"t1\", \"t2\", \"t3\", \"take\", \"taken\", \"taking\", \"tb\", \"tc\", \"td\", \"te\", \"tell\", \"ten\", \"tends\", \"tf\", \"th\", \"than\", \"thank\", \"thanks\", \"thanx\", \"that\", \"that'll\", \"thats\", \"that's\", \"that've\", \"the\", \"their\", \"theirs\", \"them\", \"themselves\", \"then\", \"thence\", \"there\", \"thereafter\", \"thereby\", \"thered\", \"therefore\", \"therein\", \"there'll\", \"thereof\", \"therere\", \"theres\", \"there's\", \"thereto\", \"thereupon\", \"there've\", \"these\", \"they\", \"theyd\", \"they'd\", \"they'll\", \"theyre\", \"they're\", \"they've\", \"thickv\", \"thin\", \"think\", \"third\", \"this\", \"thorough\", \"thoroughly\", \"those\", \"thou\", \"though\", \"thoughh\", \"thousand\", \"three\", \"throug\", \"through\", \"throughout\", \"thru\", \"thus\", \"ti\", \"til\", \"tip\", \"tj\", \"tl\", \"tm\", \"tn\", \"to\", \"together\", \"too\", \"took\", \"top\", \"toward\", \"towards\", \"tp\", \"tq\", \"tr\", \"tried\", \"tries\", \"truly\", \"try\", \"trying\", \"ts\", \"t's\", \"tt\", \"tv\", \"twelve\", \"twenty\", \"twice\", \"two\", \"tx\", \"u\", \"u201d\", \"ue\", \"ui\", \"uj\", \"uk\", \"um\", \"un\", \"under\", \"unfortunately\", \"unless\", \"unlike\", \"unlikely\", \"until\", \"unto\", \"uo\", \"up\", \"upon\", \"ups\", \"ur\", \"us\", \"use\", \"used\", \"useful\", \"usefully\", \"usefulness\", \"uses\", \"using\", \"usually\", \"ut\", \"v\", \"va\", \"value\", \"various\", \"vd\", \"ve\", \"ve\", \"very\", \"via\", \"viz\", \"vj\", \"vo\", \"vol\", \"vols\", \"volumtype\", \"vq\", \"vs\", \"vt\", \"vu\", \"w\", \"wa\", \"want\", \"wants\", \"was\", \"wasn\", \"wasnt\", \"wasn't\", \"way\", \"we\", \"wed\", \"we'd\", \"welcome\", \"well\", \"we'll\", \"well-b\", \"went\", \"were\", \"we're\", \"weren\", \"werent\", \"weren't\", \"we've\", \"what\", \"whatever\", \"what'll\", \"whats\", \"what's\", \"when\", \"whence\", \"whenever\", \"when's\", \"where\", \"whereafter\", \"whereas\", \"whereby\", \"wherein\", \"wheres\", \"where's\", \"whereupon\", \"wherever\", \"whether\", \"which\", \"while\", \"whim\", \"whither\", \"who\", \"whod\", \"whoever\", \"whole\", \"who'll\", \"whom\", \"whomever\", \"whos\", \"who's\", \"whose\", \"why\", \"why's\", \"wi\", \"widely\", \"will\", \"willing\", \"wish\", \"with\", \"within\", \"without\", \"wo\", \"won\", \"wonder\", \"wont\", \"won't\", \"words\", \"world\", \"would\", \"wouldn\", \"wouldnt\", \"wouldn't\", \"www\", \"x\", \"x1\", \"x2\", \"x3\", \"xf\", \"xi\", \"xj\", \"xk\", \"xl\", \"xn\", \"xo\", \"xs\", \"xt\", \"xv\", \"xx\", \"y\", \"y2\", \"yes\", \"yet\", \"yj\", \"yl\", \"you\", \"youd\", \"you'd\", \"you'll\", \"your\", \"youre\", \"you're\", \"yours\", \"yourself\", \"yourselves\", \"you've\", \"yr\", \"ys\", \"yt\", \"z\", \"zero\", \"zi\", \"zz\"}"
   ]
  },
  {
   "cell_type": "code",
   "execution_count": 24,
   "id": "b6ed37bd",
   "metadata": {},
   "outputs": [],
   "source": [
    "from collections import Counter\n",
    "\n",
    "\n",
    "most_comm = Counter(\" \".join(df[\"review\"]).split()) \n",
    "\n",
    "newr = []\n",
    "for i in most_comm:\n",
    "    newr.append(i.lower())\n",
    "\n",
    "\n",
    "filtered_words =[]\n",
    "for ele in newr:\n",
    "    if ele not in stop_word:\n",
    "        filtered_words.append(ele)\n",
    "\n",
    "#print(filtered_words)\n",
    "         "
   ]
  },
  {
   "cell_type": "code",
   "execution_count": 25,
   "id": "8a2398a1",
   "metadata": {},
   "outputs": [],
   "source": [
    "word_df = pd.DataFrame(filtered_words)"
   ]
  },
  {
   "cell_type": "code",
   "execution_count": 26,
   "id": "b80b8df9",
   "metadata": {},
   "outputs": [],
   "source": [
    "i=0\n",
    "dfw = df3[\"review\"]\n",
    "factor_counter_pos =  [0, 0, 0, 0, 0, 0]\n",
    "for factor in factors:\n",
    "    for ele in factor:\n",
    "        n = df3[\"review\"].str.count(ele).sum()\n",
    "        factor_counter_pos[i] = factor_counter_pos[i] + n\n",
    "    i = i+1"
   ]
  },
  {
   "cell_type": "code",
   "execution_count": 27,
   "id": "8394cf46",
   "metadata": {},
   "outputs": [
    {
     "name": "stdout",
     "output_type": "stream",
     "text": [
      "[489, 1527, 2847, 2486, 3981, 719]\n"
     ]
    }
   ],
   "source": [
    " print(factor_counter_pos)"
   ]
  },
  {
   "cell_type": "code",
   "execution_count": 28,
   "id": "ae76e93d",
   "metadata": {},
   "outputs": [],
   "source": [
    "# print(df[\"review\"].str.count(\"product\").sum())"
   ]
  },
  {
   "cell_type": "code",
   "execution_count": 29,
   "id": "5cfd86d4",
   "metadata": {},
   "outputs": [
    {
     "data": {
      "text/html": [
       "<div>\n",
       "<style scoped>\n",
       "    .dataframe tbody tr th:only-of-type {\n",
       "        vertical-align: middle;\n",
       "    }\n",
       "\n",
       "    .dataframe tbody tr th {\n",
       "        vertical-align: top;\n",
       "    }\n",
       "\n",
       "    .dataframe thead th {\n",
       "        text-align: right;\n",
       "    }\n",
       "</style>\n",
       "<table border=\"1\" class=\"dataframe\">\n",
       "  <thead>\n",
       "    <tr style=\"text-align: right;\">\n",
       "      <th></th>\n",
       "      <th>product_id</th>\n",
       "      <th>product_title</th>\n",
       "      <th>rating</th>\n",
       "      <th>summary</th>\n",
       "      <th>review</th>\n",
       "      <th>location</th>\n",
       "      <th>date</th>\n",
       "      <th>upvotes</th>\n",
       "      <th>downvotes</th>\n",
       "    </tr>\n",
       "  </thead>\n",
       "  <tbody>\n",
       "    <tr>\n",
       "      <th>9</th>\n",
       "      <td>ACCFZGAQJGYCYDCM</td>\n",
       "      <td>BoAt Rockerz 235v2 with ASAP charging Version ...</td>\n",
       "      <td>1</td>\n",
       "      <td>Worthless</td>\n",
       "      <td>This headphone is good but not that much as i ...</td>\n",
       "      <td>Firozabad District</td>\n",
       "      <td>8 months ago</td>\n",
       "      <td>265</td>\n",
       "      <td>83</td>\n",
       "    </tr>\n",
       "    <tr>\n",
       "      <th>12</th>\n",
       "      <td>ACCFZGAQJGYCYDCM</td>\n",
       "      <td>BoAt Rockerz 235v2 with ASAP charging Version ...</td>\n",
       "      <td>1</td>\n",
       "      <td>Terrible product</td>\n",
       "      <td>After using for about 8 days, right side of th...</td>\n",
       "      <td>Pune</td>\n",
       "      <td>8 months ago</td>\n",
       "      <td>136</td>\n",
       "      <td>80</td>\n",
       "    </tr>\n",
       "    <tr>\n",
       "      <th>13</th>\n",
       "      <td>ACCFZGAQJGYCYDCM</td>\n",
       "      <td>BoAt Rockerz 235v2 with ASAP charging Version ...</td>\n",
       "      <td>1</td>\n",
       "      <td>Useless product</td>\n",
       "      <td>Mic is not proper recipient persons can't hear...</td>\n",
       "      <td>Thane</td>\n",
       "      <td>8 months ago</td>\n",
       "      <td>155</td>\n",
       "      <td>134</td>\n",
       "    </tr>\n",
       "    <tr>\n",
       "      <th>20</th>\n",
       "      <td>ACCFZGAQJGYCYDCM</td>\n",
       "      <td>BoAt Rockerz 235v2 with ASAP charging Version ...</td>\n",
       "      <td>3</td>\n",
       "      <td>Does the job</td>\n",
       "      <td>Hi Seekers, I am writing this review after 2 w...</td>\n",
       "      <td>Mirzapur District</td>\n",
       "      <td>8 months ago</td>\n",
       "      <td>20</td>\n",
       "      <td>1</td>\n",
       "    </tr>\n",
       "    <tr>\n",
       "      <th>32</th>\n",
       "      <td>ACCFZGAQJGYCYDCM</td>\n",
       "      <td>BoAt Rockerz 235v2 with ASAP charging Version ...</td>\n",
       "      <td>3</td>\n",
       "      <td>Nice</td>\n",
       "      <td>A fine product i would say , well crafted desi...</td>\n",
       "      <td>Ajmer</td>\n",
       "      <td>7 months ago</td>\n",
       "      <td>11</td>\n",
       "      <td>1</td>\n",
       "    </tr>\n",
       "    <tr>\n",
       "      <th>...</th>\n",
       "      <td>...</td>\n",
       "      <td>...</td>\n",
       "      <td>...</td>\n",
       "      <td>...</td>\n",
       "      <td>...</td>\n",
       "      <td>...</td>\n",
       "      <td>...</td>\n",
       "      <td>...</td>\n",
       "      <td>...</td>\n",
       "    </tr>\n",
       "    <tr>\n",
       "      <th>9343</th>\n",
       "      <td>ACCEVQZABYWJHRHF</td>\n",
       "      <td>BoAt BassHeads 100 Wired Headset</td>\n",
       "      <td>2</td>\n",
       "      <td>Can be taken for music only not for calls.</td>\n",
       "      <td>Pros: - Sound in this earphone is crisp clear ...</td>\n",
       "      <td>Noida</td>\n",
       "      <td>Jul, 2018</td>\n",
       "      <td>0</td>\n",
       "      <td>0</td>\n",
       "    </tr>\n",
       "    <tr>\n",
       "      <th>9346</th>\n",
       "      <td>ACCEVQZABYWJHRHF</td>\n",
       "      <td>BoAt BassHeads 100 Wired Headset</td>\n",
       "      <td>3</td>\n",
       "      <td>Good</td>\n",
       "      <td>Its a good value product however the jack is n...</td>\n",
       "      <td>New Delhi</td>\n",
       "      <td>Jul, 2018</td>\n",
       "      <td>0</td>\n",
       "      <td>0</td>\n",
       "    </tr>\n",
       "    <tr>\n",
       "      <th>9357</th>\n",
       "      <td>ACCEVQZABYWJHRHF</td>\n",
       "      <td>BoAt BassHeads 100 Wired Headset</td>\n",
       "      <td>3</td>\n",
       "      <td>Does the job</td>\n",
       "      <td>These seemed to be good deal to me until I fou...</td>\n",
       "      <td>Karimnagar</td>\n",
       "      <td>May, 2018</td>\n",
       "      <td>0</td>\n",
       "      <td>0</td>\n",
       "    </tr>\n",
       "    <tr>\n",
       "      <th>9360</th>\n",
       "      <td>ACCEVQZABYWJHRHF</td>\n",
       "      <td>BoAt BassHeads 100 Wired Headset</td>\n",
       "      <td>3</td>\n",
       "      <td>Does the job</td>\n",
       "      <td>I have used JBL inspire 300YB, HOM Smile Jamai...</td>\n",
       "      <td>Bengaluru</td>\n",
       "      <td>May, 2018</td>\n",
       "      <td>0</td>\n",
       "      <td>0</td>\n",
       "    </tr>\n",
       "    <tr>\n",
       "      <th>9363</th>\n",
       "      <td>ACCEVQZABYWJHRHF</td>\n",
       "      <td>BoAt BassHeads 100 Wired Headset</td>\n",
       "      <td>3</td>\n",
       "      <td>Good</td>\n",
       "      <td>The built quality is good ,the sound is good b...</td>\n",
       "      <td>Hyderabad</td>\n",
       "      <td>May, 2018</td>\n",
       "      <td>0</td>\n",
       "      <td>0</td>\n",
       "    </tr>\n",
       "  </tbody>\n",
       "</table>\n",
       "<p>2020 rows × 9 columns</p>\n",
       "</div>"
      ],
      "text/plain": [
       "            product_id                                      product_title  \\\n",
       "9     ACCFZGAQJGYCYDCM  BoAt Rockerz 235v2 with ASAP charging Version ...   \n",
       "12    ACCFZGAQJGYCYDCM  BoAt Rockerz 235v2 with ASAP charging Version ...   \n",
       "13    ACCFZGAQJGYCYDCM  BoAt Rockerz 235v2 with ASAP charging Version ...   \n",
       "20    ACCFZGAQJGYCYDCM  BoAt Rockerz 235v2 with ASAP charging Version ...   \n",
       "32    ACCFZGAQJGYCYDCM  BoAt Rockerz 235v2 with ASAP charging Version ...   \n",
       "...                ...                                                ...   \n",
       "9343  ACCEVQZABYWJHRHF                   BoAt BassHeads 100 Wired Headset   \n",
       "9346  ACCEVQZABYWJHRHF                   BoAt BassHeads 100 Wired Headset   \n",
       "9357  ACCEVQZABYWJHRHF                   BoAt BassHeads 100 Wired Headset   \n",
       "9360  ACCEVQZABYWJHRHF                   BoAt BassHeads 100 Wired Headset   \n",
       "9363  ACCEVQZABYWJHRHF                   BoAt BassHeads 100 Wired Headset   \n",
       "\n",
       "      rating                                     summary  \\\n",
       "9          1                                   Worthless   \n",
       "12         1                            Terrible product   \n",
       "13         1                             Useless product   \n",
       "20         3                                Does the job   \n",
       "32         3                                        Nice   \n",
       "...      ...                                         ...   \n",
       "9343       2  Can be taken for music only not for calls.   \n",
       "9346       3                                        Good   \n",
       "9357       3                                Does the job   \n",
       "9360       3                                Does the job   \n",
       "9363       3                                        Good   \n",
       "\n",
       "                                                 review            location  \\\n",
       "9     This headphone is good but not that much as i ...  Firozabad District   \n",
       "12    After using for about 8 days, right side of th...                Pune   \n",
       "13    Mic is not proper recipient persons can't hear...               Thane   \n",
       "20    Hi Seekers, I am writing this review after 2 w...   Mirzapur District   \n",
       "32    A fine product i would say , well crafted desi...               Ajmer   \n",
       "...                                                 ...                 ...   \n",
       "9343  Pros: - Sound in this earphone is crisp clear ...               Noida   \n",
       "9346  Its a good value product however the jack is n...           New Delhi   \n",
       "9357  These seemed to be good deal to me until I fou...          Karimnagar   \n",
       "9360  I have used JBL inspire 300YB, HOM Smile Jamai...           Bengaluru   \n",
       "9363  The built quality is good ,the sound is good b...           Hyderabad   \n",
       "\n",
       "              date  upvotes  downvotes  \n",
       "9     8 months ago      265         83  \n",
       "12    8 months ago      136         80  \n",
       "13    8 months ago      155        134  \n",
       "20    8 months ago       20          1  \n",
       "32    7 months ago       11          1  \n",
       "...            ...      ...        ...  \n",
       "9343     Jul, 2018        0          0  \n",
       "9346     Jul, 2018        0          0  \n",
       "9357     May, 2018        0          0  \n",
       "9360     May, 2018        0          0  \n",
       "9363     May, 2018        0          0  \n",
       "\n",
       "[2020 rows x 9 columns]"
      ]
     },
     "execution_count": 29,
     "metadata": {},
     "output_type": "execute_result"
    }
   ],
   "source": [
    "df_neg = df[df[\"rating\"] <= 3] \n",
    "df_neg"
   ]
  },
  {
   "cell_type": "code",
   "execution_count": 30,
   "id": "85346fb7",
   "metadata": {},
   "outputs": [],
   "source": [
    "i=0\n",
    "dfw = df3[\"review\"]\n",
    "factor_counter_neg =  [0, 0, 0, 0, 0, 0]\n",
    "for factor in factors:\n",
    "    for ele in factor:\n",
    "        n = df_neg[\"review\"].str.count(ele).sum()\n",
    "        factor_counter_neg[i] = factor_counter_neg[i] + n\n",
    "    i = i+1"
   ]
  },
  {
   "cell_type": "code",
   "execution_count": 31,
   "id": "852eda06",
   "metadata": {},
   "outputs": [
    {
     "name": "stdout",
     "output_type": "stream",
     "text": [
      "[69, 201, 556, 352, 737, 203]\n"
     ]
    }
   ],
   "source": [
    "print(factor_counter_neg)"
   ]
  },
  {
   "cell_type": "code",
   "execution_count": 32,
   "id": "642cea07",
   "metadata": {},
   "outputs": [
    {
     "data": {
      "image/png": "[encoded data removed]",
      "text/plain": [
       "<Figure size 640x480 with 1 Axes>"
      ]
     },
     "metadata": {},
     "output_type": "display_data"
    }
   ],
   "source": [
    "import matplotlib.pyplot as plt\n",
    "import numpy as np\n",
    "\n",
    "xpoints = np.array([\"Delivery\", \"Design\", \"Experience\", \"Price\", \"Quality\", \"Others\"])\n",
    "ypoints = np.array(factor_counter_pos)\n",
    "\n",
    "plt.plot(xpoints, ypoints)\n",
    "plt.grid()\n",
    "plt.show()"
   ]
  },
  {
   "cell_type": "code",
   "execution_count": 33,
   "id": "447bde03",
   "metadata": {},
   "outputs": [
    {
     "data": {
      "image/png": "[encoded data removed]",
      "text/plain": [
       "<Figure size 640x480 with 1 Axes>"
      ]
     },
     "metadata": {},
     "output_type": "display_data"
    }
   ],
   "source": [
    "xp  = np.array([\"Delivery\", \"Design\", \"Experience\", \"Price\", \"Quality\", \"Others\"])\n",
    "yp  = np.array(factor_counter_neg)\n",
    "\n",
    "plt.plot(xp , yp )\n",
    "plt.grid()\n",
    "plt.show()"
   ]
  },
  {
   "cell_type": "code",
   "execution_count": 34,
   "id": "af5b09da",
   "metadata": {},
   "outputs": [
    {
     "data": {
      "image/png": "[encoded data removed]",
      "text/plain": [
       "<Figure size 640x480 with 1 Axes>"
      ]
     },
     "metadata": {},
     "output_type": "display_data"
    }
   ],
   "source": [
    "fig = plt.figure()\n",
    "ax = fig.add_axes([0,0,1,1])\n",
    "ax.bar(xp,yp, width = 0.96, color='#FF5733')\n",
    "ax.set_facecolor(\"#FDFDFD\")\n",
    "ax.set_axisbelow(True)\n",
    "ax.grid(axis='y', color='gray', linestyle='dashed') \n",
    "ax.set_title(\"Factors why satisfied customers giving bad reviews\", ha='center')\n",
    " \n",
    "plt.xlabel('Product factors')\n",
    "plt.ylabel('Frequency')\n",
    "plt.show()"
   ]
  },
  {
   "cell_type": "code",
   "execution_count": 35,
   "id": "f54c0d5e",
   "metadata": {},
   "outputs": [
    {
     "data": {
      "image/png": "[encoded data removed]",
      "text/plain": [
       "<Figure size 640x480 with 1 Axes>"
      ]
     },
     "metadata": {},
     "output_type": "display_data"
    }
   ],
   "source": [
    "fig_pos = plt.figure()\n",
    "ax = fig_pos.add_axes([0,0,1,1])\n",
    "ax.bar(xpoints,ypoints, width = 0.96, color='#FF5733')\n",
    "ax.set_facecolor(\"#FDFDFD\")\n",
    "ax.set_axisbelow(True)\n",
    "ax.grid(axis='y', color='gray', linestyle='dashed') \n",
    "ax.set_title(\"Factors why satisfied customer giving good reviews\", ha='center')\n",
    "#plt.grid(axis = 'y')\n",
    "plt.xlabel('Product factors')\n",
    "plt.ylabel('Frequency')\n",
    "plt.show(block=True)"
   ]
  },
  {
   "cell_type": "code",
   "execution_count": 36,
   "id": "2cd62a0a",
   "metadata": {},
   "outputs": [],
   "source": [
    "li = df[\"product_title\"].value_counts()[:10].index.tolist()\n",
    "score_list = []\n",
    "for i in li:\n",
    "    dt = df[df[\"product_title\"] == i]\n",
    "    n_rating = len(dt)\n",
    "    n_pos_rating = len(dt[dt[\"rating\"] > 3])\n",
    "    n_pos_rating = round((n_pos_rating / n_rating) * 100, 2)\n",
    "    n_neg_rating = len(dt[dt[\"rating\"] <= 3])\n",
    "    n_neg_rating = round((n_neg_rating / n_rating) * 100, 2)\n",
    "    score_list.append([i, round((n_pos_rating-n_neg_rating)-50)])\n",
    "\n",
    "score_list.sort(key=lambda x: x[1], reverse=True)"
   ]
  },
  {
   "cell_type": "code",
   "execution_count": 37,
   "id": "673b0f4f",
   "metadata": {},
   "outputs": [
    {
     "data": {
      "text/plain": [
       "[['BoAt BassHeads 100 Wired Headset', 28],\n",
       " ['OnePlus Bullets Wireless Z Bluetooth Headset', 27],\n",
       " ['realme Buds 2 Wired Headset', 15],\n",
       " ['realme Buds Wireless Bluetooth Headset', 9],\n",
       " ['OnePlus Bullets Wireless Z Bass Edition Bluetooth Headset', 7],\n",
       " ['U&I Titanic Series - Low Price Bluetooth Neckband Bluetooth Headset', 6],\n",
       " ['BoAt Rockerz 235v2 with ASAP charging Version 5.0 Bluetooth Headset', 0],\n",
       " ['BoAt Airdopes 131 Bluetooth Headset', -12],\n",
       " ['realme Buds Q Bluetooth Headset', -14]]"
      ]
     },
     "execution_count": 37,
     "metadata": {},
     "output_type": "execute_result"
    }
   ],
   "source": [
    "score_list"
   ]
  },
  {
   "cell_type": "code",
   "execution_count": 38,
   "id": "306a28fe",
   "metadata": {},
   "outputs": [
    {
     "data": {
      "text/plain": [
       "array([['BoAt BassHeads 100 Wired Headset',\n",
       "        'OnePlus Bullets Wireless Z Bluetooth Headset',\n",
       "        'realme Buds 2 Wired Headset',\n",
       "        'realme Buds Wireless Bluetooth Headset',\n",
       "        'OnePlus Bullets Wireless Z Bass Edition Bluetooth Headset',\n",
       "        'U&I Titanic Series - Low Price Bluetooth Neckband Bluetooth Headset',\n",
       "        'BoAt Rockerz 235v2 with ASAP charging Version 5.0 Bluetooth Headset',\n",
       "        'BoAt Airdopes 131 Bluetooth Headset',\n",
       "        'realme Buds Q Bluetooth Headset'],\n",
       "       ['28', '27', '15', '9', '7', '6', '0', '-12', '-14']], dtype='<U67')"
      ]
     },
     "execution_count": 38,
     "metadata": {},
     "output_type": "execute_result"
    }
   ],
   "source": [
    "score_list = np.transpose(score_list)\n",
    "score_list"
   ]
  },
  {
   "cell_type": "code",
   "execution_count": 39,
   "id": "baeab39a",
   "metadata": {},
   "outputs": [
    {
     "data": {
      "text/plain": [
       "array(['BoAt BassHeads 100 Wired Headset',\n",
       "       'OnePlus Bullets Wireless Z Bluetooth Headset',\n",
       "       'realme Buds 2 Wired Headset',\n",
       "       'realme Buds Wireless Bluetooth Headset',\n",
       "       'OnePlus Bullets Wireless Z Bass Edition Bluetooth Headset',\n",
       "       'U&I Titanic Series - Low Price Bluetooth Neckband Bluetooth Headset',\n",
       "       'BoAt Rockerz 235v2 with ASAP charging Version 5.0 Bluetooth Headset',\n",
       "       'BoAt Airdopes 131 Bluetooth Headset',\n",
       "       'realme Buds Q Bluetooth Headset'], dtype='<U67')"
      ]
     },
     "execution_count": 39,
     "metadata": {},
     "output_type": "execute_result"
    }
   ],
   "source": [
    "score_list[0]"
   ]
  },
  {
   "cell_type": "code",
   "execution_count": 40,
   "id": "1053991f",
   "metadata": {},
   "outputs": [
    {
     "data": {
      "image/png": "[encoded data removed]",
      "text/plain": [
       "<Figure size 640x480 with 1 Axes>"
      ]
     },
     "metadata": {},
     "output_type": "display_data"
    }
   ],
   "source": [
    "t_list = [int(i) for i in score_list[1]]\n",
    "growthData = {\"Product\": score_list[0],\n",
    "\n",
    "              \"Score\": t_list};\n",
    "\n",
    "dataFrame  = pd.DataFrame(data = growthData);\n",
    "\n",
    "dataFrame.plot.bar(x='Product', y='Score', title=\"Products Ranking by user based on review \", width = 0.96, color='#FF5733');\n",
    "plt.grid(axis = 'y', color='black', linewidth=0.1)\n",
    "plt.yticks([-15, -10, -5,0,5, 10, 15, 20, 25, 30])   \n",
    "plt.show(block=True);"
   ]
  },
  {
   "cell_type": "code",
   "execution_count": 41,
   "id": "cd605be0",
   "metadata": {},
   "outputs": [],
   "source": [
    "li = df3[\"product_title\"].value_counts()[:10].index.tolist()\n",
    "res_list = []\n",
    "for i in li:\n",
    "    dt = df[df[\"product_title\"] == i]\n",
    "    n_rating = len(dt)\n",
    "    n_pos_rating = len(dt[dt[\"rating\"] > 3])\n",
    "    n_pos_rating = round((n_pos_rating / n_rating) * 100)\n",
    "    n_neg_rating = len(dt[dt[\"rating\"] <= 3])\n",
    "    n_neg_rating = round((n_neg_rating / n_rating) * 100)\n",
    "    res_list.append([i, n_pos_rating, n_neg_rating, round(n_pos_rating-n_neg_rating, 2)])"
   ]
  },
  {
   "cell_type": "code",
   "execution_count": 42,
   "id": "c7354848",
   "metadata": {},
   "outputs": [
    {
     "data": {
      "text/plain": [
       "array(['75', '88', '89', '82', '79', '79', '78', '69', '68'], dtype='<U67')"
      ]
     },
     "execution_count": 42,
     "metadata": {},
     "output_type": "execute_result"
    }
   ],
   "source": [
    "res_list = np.transpose(res_list)\n",
    "res_list[1]"
   ]
  },
  {
   "cell_type": "code",
   "execution_count": null,
   "id": "462789c8",
   "metadata": {},
   "outputs": [],
   "source": [
    " "
   ]
  },
  {
   "cell_type": "code",
   "execution_count": 43,
   "id": "4960e13c",
   "metadata": {},
   "outputs": [],
   "source": [
    "p_list = [i for i in res_list[1]]\n",
    "n_list = [i for i in res_list[2]]\n",
    "\n",
    "x = np.arange(9)\n",
    "y1 = p_list\n",
    "y2 = n_list\n",
    "width = 0.40\n"
   ]
  },
  {
   "cell_type": "code",
   "execution_count": 44,
   "id": "55f2aa6e",
   "metadata": {},
   "outputs": [
    {
     "data": {
      "text/plain": [
       "array(['75', '88', '89', '82', '79', '79', '78', '69', '68'], dtype='<U67')"
      ]
     },
     "execution_count": 44,
     "metadata": {},
     "output_type": "execute_result"
    }
   ],
   "source": [
    "res_list[1]"
   ]
  },
  {
   "cell_type": "code",
   "execution_count": 45,
   "id": "bd744b68",
   "metadata": {},
   "outputs": [],
   "source": [
    "recommend = [\"recommend\", \"prefer\", \"adopt\",\"choose\",\"go for\",\"pick\",\"promote\",\"put\",\"select\",\"suggest\",\"wish\",\"advance\",\"aggrandize\",\"cull\",\"desire\",\"elect\",\"elevate\",\"fancy\",\"finger\",\"incline\",\"mark\",\"place\",\"pose\",\"present\",\"proposition\",\"propound\",\"raise\",\"tag\",\"take\",\"tap\",\"upgrade\",\"be partial to\",\"be turned on to\",\"fix upon\",\"like better\",\"opt for\",\"optate\",\"propone\",\"put forward\",\"would rather\",\"would sooner\",\"superior\",\"better\",\"choice\",\"approved\",\"endorsed\",\"favored\",\"praised\",\"selected\",\"suggested\",\"supported\",\"advocated\",\"commended\",\"mentioned\",\"sanctioned\",\"urged\",\"counseling\",\"helping\",\"advising\",\"avuncular\",\"consultative\",\"consultive\",\"allow\",\"become\",\"consider\",\"enjoy\",\"feel\",\"know\",\"leave\",\"need\",\"permit\",\"see\",\"suffer\",\"undergo\",\"entertain\",\"let\",\"must\",\"sustain\",\"tolerate\",\"be up to\",\"fall on\",\"meet with\",\"ought\",\"put up with\",\"rest with\",\"think about\",\"can\",\"be allowed\",\"be authorized\",\"be permitted\",\"can do\", \"buy\", \"worth\"]"
   ]
  },
  {
   "cell_type": "code",
   "execution_count": 46,
   "id": "21b165ac",
   "metadata": {},
   "outputs": [
    {
     "data": {
      "text/html": [
       "<div>\n",
       "<style scoped>\n",
       "    .dataframe tbody tr th:only-of-type {\n",
       "        vertical-align: middle;\n",
       "    }\n",
       "\n",
       "    .dataframe tbody tr th {\n",
       "        vertical-align: top;\n",
       "    }\n",
       "\n",
       "    .dataframe thead th {\n",
       "        text-align: right;\n",
       "    }\n",
       "</style>\n",
       "<table border=\"1\" class=\"dataframe\">\n",
       "  <thead>\n",
       "    <tr style=\"text-align: right;\">\n",
       "      <th></th>\n",
       "      <th>product_id</th>\n",
       "      <th>product_title</th>\n",
       "      <th>rating</th>\n",
       "      <th>summary</th>\n",
       "      <th>review</th>\n",
       "      <th>location</th>\n",
       "      <th>date</th>\n",
       "      <th>upvotes</th>\n",
       "      <th>downvotes</th>\n",
       "    </tr>\n",
       "  </thead>\n",
       "  <tbody>\n",
       "    <tr>\n",
       "      <th>11</th>\n",
       "      <td>ACCFZGAQJGYCYDCM</td>\n",
       "      <td>BoAt Rockerz 235v2 with ASAP charging Version ...</td>\n",
       "      <td>4</td>\n",
       "      <td>Good choice</td>\n",
       "      <td>Nice build quality.. bass is best it self.. vi...</td>\n",
       "      <td>Padra</td>\n",
       "      <td>8 months ago</td>\n",
       "      <td>126</td>\n",
       "      <td>45</td>\n",
       "    </tr>\n",
       "    <tr>\n",
       "      <th>26</th>\n",
       "      <td>ACCFZGAQJGYCYDCM</td>\n",
       "      <td>BoAt Rockerz 235v2 with ASAP charging Version ...</td>\n",
       "      <td>5</td>\n",
       "      <td>Must buy!</td>\n",
       "      <td>Best product at this price loved it. Thank you...</td>\n",
       "      <td>Ahmadnagar</td>\n",
       "      <td>8 months ago</td>\n",
       "      <td>24</td>\n",
       "      <td>5</td>\n",
       "    </tr>\n",
       "    <tr>\n",
       "      <th>50</th>\n",
       "      <td>ACCFZGAQJGYCYDCM</td>\n",
       "      <td>BoAt Rockerz 235v2 with ASAP charging Version ...</td>\n",
       "      <td>5</td>\n",
       "      <td>Must buy!</td>\n",
       "      <td>i have ordered 2 headset reallyyyy awesome hig...</td>\n",
       "      <td>Tuticorin</td>\n",
       "      <td>8 months ago</td>\n",
       "      <td>4</td>\n",
       "      <td>0</td>\n",
       "    </tr>\n",
       "    <tr>\n",
       "      <th>52</th>\n",
       "      <td>ACCFZGAQJGYCYDCM</td>\n",
       "      <td>BoAt Rockerz 235v2 with ASAP charging Version ...</td>\n",
       "      <td>5</td>\n",
       "      <td>Must buy!</td>\n",
       "      <td>thanks flipkart its was a wonderful time that ...</td>\n",
       "      <td>Tinsukia</td>\n",
       "      <td>8 months ago</td>\n",
       "      <td>8</td>\n",
       "      <td>2</td>\n",
       "    </tr>\n",
       "    <tr>\n",
       "      <th>57</th>\n",
       "      <td>ACCFZGAQJGYCYDCM</td>\n",
       "      <td>BoAt Rockerz 235v2 with ASAP charging Version ...</td>\n",
       "      <td>4</td>\n",
       "      <td>Good choice</td>\n",
       "      <td>I would divide it in pros and cons...Pros:-1-g...</td>\n",
       "      <td>Asansol</td>\n",
       "      <td>8 months ago</td>\n",
       "      <td>10</td>\n",
       "      <td>3</td>\n",
       "    </tr>\n",
       "    <tr>\n",
       "      <th>...</th>\n",
       "      <td>...</td>\n",
       "      <td>...</td>\n",
       "      <td>...</td>\n",
       "      <td>...</td>\n",
       "      <td>...</td>\n",
       "      <td>...</td>\n",
       "      <td>...</td>\n",
       "      <td>...</td>\n",
       "      <td>...</td>\n",
       "    </tr>\n",
       "    <tr>\n",
       "      <th>9297</th>\n",
       "      <td>ACCEVQZABYWJHRHF</td>\n",
       "      <td>BoAt BassHeads 100 Wired Headset</td>\n",
       "      <td>4</td>\n",
       "      <td>Good choice</td>\n",
       "      <td>good headphone not have excellent bass but sou...</td>\n",
       "      <td>Pandua</td>\n",
       "      <td>Oct, 2018</td>\n",
       "      <td>0</td>\n",
       "      <td>0</td>\n",
       "    </tr>\n",
       "    <tr>\n",
       "      <th>9311</th>\n",
       "      <td>ACCEVQZABYWJHRHF</td>\n",
       "      <td>BoAt BassHeads 100 Wired Headset</td>\n",
       "      <td>4</td>\n",
       "      <td>Good choice</td>\n",
       "      <td>Good sound quality but if you really want deep...</td>\n",
       "      <td>Hyderabad</td>\n",
       "      <td>Oct, 2018</td>\n",
       "      <td>0</td>\n",
       "      <td>0</td>\n",
       "    </tr>\n",
       "    <tr>\n",
       "      <th>9324</th>\n",
       "      <td>ACCEVQZABYWJHRHF</td>\n",
       "      <td>BoAt BassHeads 100 Wired Headset</td>\n",
       "      <td>5</td>\n",
       "      <td>Must buy!</td>\n",
       "      <td>I got some repair and my product was replaced ...</td>\n",
       "      <td>Visakhapatnam</td>\n",
       "      <td>Sep, 2018</td>\n",
       "      <td>0</td>\n",
       "      <td>0</td>\n",
       "    </tr>\n",
       "    <tr>\n",
       "      <th>9358</th>\n",
       "      <td>ACCEVQZABYWJHRHF</td>\n",
       "      <td>BoAt BassHeads 100 Wired Headset</td>\n",
       "      <td>4</td>\n",
       "      <td>Good choice</td>\n",
       "      <td>very good quality sound and build quality also...</td>\n",
       "      <td>Ambernath</td>\n",
       "      <td>May, 2018</td>\n",
       "      <td>0</td>\n",
       "      <td>0</td>\n",
       "    </tr>\n",
       "    <tr>\n",
       "      <th>9364</th>\n",
       "      <td>ACCEVQZABYWJHRHF</td>\n",
       "      <td>BoAt BassHeads 100 Wired Headset</td>\n",
       "      <td>5</td>\n",
       "      <td>Must buy!</td>\n",
       "      <td>One of the best headsets at affordable price. ...</td>\n",
       "      <td>Hyderabad</td>\n",
       "      <td>May, 2018</td>\n",
       "      <td>0</td>\n",
       "      <td>0</td>\n",
       "    </tr>\n",
       "  </tbody>\n",
       "</table>\n",
       "<p>474 rows × 9 columns</p>\n",
       "</div>"
      ],
      "text/plain": [
       "            product_id                                      product_title  \\\n",
       "11    ACCFZGAQJGYCYDCM  BoAt Rockerz 235v2 with ASAP charging Version ...   \n",
       "26    ACCFZGAQJGYCYDCM  BoAt Rockerz 235v2 with ASAP charging Version ...   \n",
       "50    ACCFZGAQJGYCYDCM  BoAt Rockerz 235v2 with ASAP charging Version ...   \n",
       "52    ACCFZGAQJGYCYDCM  BoAt Rockerz 235v2 with ASAP charging Version ...   \n",
       "57    ACCFZGAQJGYCYDCM  BoAt Rockerz 235v2 with ASAP charging Version ...   \n",
       "...                ...                                                ...   \n",
       "9297  ACCEVQZABYWJHRHF                   BoAt BassHeads 100 Wired Headset   \n",
       "9311  ACCEVQZABYWJHRHF                   BoAt BassHeads 100 Wired Headset   \n",
       "9324  ACCEVQZABYWJHRHF                   BoAt BassHeads 100 Wired Headset   \n",
       "9358  ACCEVQZABYWJHRHF                   BoAt BassHeads 100 Wired Headset   \n",
       "9364  ACCEVQZABYWJHRHF                   BoAt BassHeads 100 Wired Headset   \n",
       "\n",
       "      rating      summary                                             review  \\\n",
       "11         4  Good choice  Nice build quality.. bass is best it self.. vi...   \n",
       "26         5    Must buy!  Best product at this price loved it. Thank you...   \n",
       "50         5    Must buy!  i have ordered 2 headset reallyyyy awesome hig...   \n",
       "52         5    Must buy!  thanks flipkart its was a wonderful time that ...   \n",
       "57         4  Good choice  I would divide it in pros and cons...Pros:-1-g...   \n",
       "...      ...          ...                                                ...   \n",
       "9297       4  Good choice  good headphone not have excellent bass but sou...   \n",
       "9311       4  Good choice  Good sound quality but if you really want deep...   \n",
       "9324       5    Must buy!  I got some repair and my product was replaced ...   \n",
       "9358       4  Good choice  very good quality sound and build quality also...   \n",
       "9364       5    Must buy!  One of the best headsets at affordable price. ...   \n",
       "\n",
       "           location          date  upvotes  downvotes  \n",
       "11            Padra  8 months ago      126         45  \n",
       "26       Ahmadnagar  8 months ago       24          5  \n",
       "50        Tuticorin  8 months ago        4          0  \n",
       "52         Tinsukia  8 months ago        8          2  \n",
       "57          Asansol  8 months ago       10          3  \n",
       "...             ...           ...      ...        ...  \n",
       "9297         Pandua     Oct, 2018        0          0  \n",
       "9311      Hyderabad     Oct, 2018        0          0  \n",
       "9324  Visakhapatnam     Sep, 2018        0          0  \n",
       "9358      Ambernath     May, 2018        0          0  \n",
       "9364      Hyderabad     May, 2018        0          0  \n",
       "\n",
       "[474 rows x 9 columns]"
      ]
     },
     "execution_count": 46,
     "metadata": {},
     "output_type": "execute_result"
    }
   ],
   "source": [
    "pat = '|'.join(r\"\\b{}\\b\".format(x) for x in recommend)\n",
    "rec_pos = df3[df3['summary'].str.contains(pat)]\n",
    "rec_pos"
   ]
  },
  {
   "cell_type": "code",
   "execution_count": 47,
   "id": "ca4bc41e",
   "metadata": {},
   "outputs": [
    {
     "data": {
      "text/html": [
       "<div>\n",
       "<style scoped>\n",
       "    .dataframe tbody tr th:only-of-type {\n",
       "        vertical-align: middle;\n",
       "    }\n",
       "\n",
       "    .dataframe tbody tr th {\n",
       "        vertical-align: top;\n",
       "    }\n",
       "\n",
       "    .dataframe thead th {\n",
       "        text-align: right;\n",
       "    }\n",
       "</style>\n",
       "<table border=\"1\" class=\"dataframe\">\n",
       "  <thead>\n",
       "    <tr style=\"text-align: right;\">\n",
       "      <th></th>\n",
       "      <th>product_id</th>\n",
       "      <th>product_title</th>\n",
       "      <th>rating</th>\n",
       "      <th>summary</th>\n",
       "      <th>review</th>\n",
       "      <th>location</th>\n",
       "      <th>date</th>\n",
       "      <th>upvotes</th>\n",
       "      <th>downvotes</th>\n",
       "    </tr>\n",
       "  </thead>\n",
       "  <tbody>\n",
       "    <tr>\n",
       "      <th>210</th>\n",
       "      <td>ACCFZGAQJGYCYDCM</td>\n",
       "      <td>BoAt Rockerz 235v2 with ASAP charging Version ...</td>\n",
       "      <td>2</td>\n",
       "      <td>Could be way better</td>\n",
       "      <td>Too.. Good in this Price range..👌👍How to open/...</td>\n",
       "      <td>Dumka District</td>\n",
       "      <td>Mar, 2020</td>\n",
       "      <td>50</td>\n",
       "      <td>8</td>\n",
       "    </tr>\n",
       "    <tr>\n",
       "      <th>384</th>\n",
       "      <td>ACCFZGAQJGYCYDCM</td>\n",
       "      <td>BoAt Rockerz 235v2 with ASAP charging Version ...</td>\n",
       "      <td>2</td>\n",
       "      <td>Expected a better product</td>\n",
       "      <td>I used the headphones for 2 weeks amd there is...</td>\n",
       "      <td>NaN</td>\n",
       "      <td>6 months ago</td>\n",
       "      <td>2</td>\n",
       "      <td>0</td>\n",
       "    </tr>\n",
       "    <tr>\n",
       "      <th>658</th>\n",
       "      <td>ACCFZGAQJGYCYDCM</td>\n",
       "      <td>BoAt Rockerz 235v2 with ASAP charging Version ...</td>\n",
       "      <td>2</td>\n",
       "      <td>Expected a better product</td>\n",
       "      <td>Having mic issues</td>\n",
       "      <td>Agra</td>\n",
       "      <td>6 months ago</td>\n",
       "      <td>1</td>\n",
       "      <td>0</td>\n",
       "    </tr>\n",
       "    <tr>\n",
       "      <th>672</th>\n",
       "      <td>ACCFZGAQJGYCYDCM</td>\n",
       "      <td>BoAt Rockerz 235v2 with ASAP charging Version ...</td>\n",
       "      <td>2</td>\n",
       "      <td>Expected a better product</td>\n",
       "      <td>Not satisfied.. Not better than boult... Conne...</td>\n",
       "      <td>Tirupati</td>\n",
       "      <td>7 months ago</td>\n",
       "      <td>1</td>\n",
       "      <td>0</td>\n",
       "    </tr>\n",
       "    <tr>\n",
       "      <th>813</th>\n",
       "      <td>ACCFZGAQJGYCYDCM</td>\n",
       "      <td>BoAt Rockerz 235v2 with ASAP charging Version ...</td>\n",
       "      <td>2</td>\n",
       "      <td>Could be way better</td>\n",
       "      <td>After one month mic is not working actually I ...</td>\n",
       "      <td>NaN</td>\n",
       "      <td>2 months ago</td>\n",
       "      <td>1</td>\n",
       "      <td>0</td>\n",
       "    </tr>\n",
       "    <tr>\n",
       "      <th>...</th>\n",
       "      <td>...</td>\n",
       "      <td>...</td>\n",
       "      <td>...</td>\n",
       "      <td>...</td>\n",
       "      <td>...</td>\n",
       "      <td>...</td>\n",
       "      <td>...</td>\n",
       "      <td>...</td>\n",
       "      <td>...</td>\n",
       "    </tr>\n",
       "    <tr>\n",
       "      <th>8854</th>\n",
       "      <td>ACCEVQZABYWJHRHF</td>\n",
       "      <td>BoAt BassHeads 100 Wired Headset</td>\n",
       "      <td>2</td>\n",
       "      <td>Could be way better</td>\n",
       "      <td>Sound quality is not as expected. Although sou...</td>\n",
       "      <td>Jaipur</td>\n",
       "      <td>Nov, 2019</td>\n",
       "      <td>0</td>\n",
       "      <td>0</td>\n",
       "    </tr>\n",
       "    <tr>\n",
       "      <th>8887</th>\n",
       "      <td>ACCEVQZABYWJHRHF</td>\n",
       "      <td>BoAt BassHeads 100 Wired Headset</td>\n",
       "      <td>2</td>\n",
       "      <td>Could be way better</td>\n",
       "      <td>I would recommend to buy Mi headphones in same...</td>\n",
       "      <td>Ghaziabad</td>\n",
       "      <td>Nov, 2019</td>\n",
       "      <td>0</td>\n",
       "      <td>0</td>\n",
       "    </tr>\n",
       "    <tr>\n",
       "      <th>9004</th>\n",
       "      <td>ACCEVQZABYWJHRHF</td>\n",
       "      <td>BoAt BassHeads 100 Wired Headset</td>\n",
       "      <td>2</td>\n",
       "      <td>Could be way better</td>\n",
       "      <td>i am an audiophile, I tested it with many ear ...</td>\n",
       "      <td>NaN</td>\n",
       "      <td>Sep, 2019</td>\n",
       "      <td>0</td>\n",
       "      <td>0</td>\n",
       "    </tr>\n",
       "    <tr>\n",
       "      <th>9018</th>\n",
       "      <td>ACCEVQZABYWJHRHF</td>\n",
       "      <td>BoAt BassHeads 100 Wired Headset</td>\n",
       "      <td>2</td>\n",
       "      <td>Could be way better</td>\n",
       "      <td>If you are looking a stylish earphones than th...</td>\n",
       "      <td>NaN</td>\n",
       "      <td>Aug, 2019</td>\n",
       "      <td>0</td>\n",
       "      <td>0</td>\n",
       "    </tr>\n",
       "    <tr>\n",
       "      <th>9126</th>\n",
       "      <td>ACCEVQZABYWJHRHF</td>\n",
       "      <td>BoAt BassHeads 100 Wired Headset</td>\n",
       "      <td>2</td>\n",
       "      <td>Expected a better product</td>\n",
       "      <td>Is works like normal earphones. No extra bass ...</td>\n",
       "      <td>Navi Mumbai</td>\n",
       "      <td>Jun, 2019</td>\n",
       "      <td>0</td>\n",
       "      <td>0</td>\n",
       "    </tr>\n",
       "  </tbody>\n",
       "</table>\n",
       "<p>104 rows × 9 columns</p>\n",
       "</div>"
      ],
      "text/plain": [
       "            product_id                                      product_title  \\\n",
       "210   ACCFZGAQJGYCYDCM  BoAt Rockerz 235v2 with ASAP charging Version ...   \n",
       "384   ACCFZGAQJGYCYDCM  BoAt Rockerz 235v2 with ASAP charging Version ...   \n",
       "658   ACCFZGAQJGYCYDCM  BoAt Rockerz 235v2 with ASAP charging Version ...   \n",
       "672   ACCFZGAQJGYCYDCM  BoAt Rockerz 235v2 with ASAP charging Version ...   \n",
       "813   ACCFZGAQJGYCYDCM  BoAt Rockerz 235v2 with ASAP charging Version ...   \n",
       "...                ...                                                ...   \n",
       "8854  ACCEVQZABYWJHRHF                   BoAt BassHeads 100 Wired Headset   \n",
       "8887  ACCEVQZABYWJHRHF                   BoAt BassHeads 100 Wired Headset   \n",
       "9004  ACCEVQZABYWJHRHF                   BoAt BassHeads 100 Wired Headset   \n",
       "9018  ACCEVQZABYWJHRHF                   BoAt BassHeads 100 Wired Headset   \n",
       "9126  ACCEVQZABYWJHRHF                   BoAt BassHeads 100 Wired Headset   \n",
       "\n",
       "      rating                    summary  \\\n",
       "210        2        Could be way better   \n",
       "384        2  Expected a better product   \n",
       "658        2  Expected a better product   \n",
       "672        2  Expected a better product   \n",
       "813        2        Could be way better   \n",
       "...      ...                        ...   \n",
       "8854       2        Could be way better   \n",
       "8887       2        Could be way better   \n",
       "9004       2        Could be way better   \n",
       "9018       2        Could be way better   \n",
       "9126       2  Expected a better product   \n",
       "\n",
       "                                                 review        location  \\\n",
       "210   Too.. Good in this Price range..👌👍How to open/...  Dumka District   \n",
       "384   I used the headphones for 2 weeks amd there is...             NaN   \n",
       "658                                   Having mic issues            Agra   \n",
       "672   Not satisfied.. Not better than boult... Conne...        Tirupati   \n",
       "813   After one month mic is not working actually I ...             NaN   \n",
       "...                                                 ...             ...   \n",
       "8854  Sound quality is not as expected. Although sou...          Jaipur   \n",
       "8887  I would recommend to buy Mi headphones in same...       Ghaziabad   \n",
       "9004  i am an audiophile, I tested it with many ear ...             NaN   \n",
       "9018  If you are looking a stylish earphones than th...             NaN   \n",
       "9126  Is works like normal earphones. No extra bass ...     Navi Mumbai   \n",
       "\n",
       "              date  upvotes  downvotes  \n",
       "210      Mar, 2020       50          8  \n",
       "384   6 months ago        2          0  \n",
       "658   6 months ago        1          0  \n",
       "672   7 months ago        1          0  \n",
       "813   2 months ago        1          0  \n",
       "...            ...      ...        ...  \n",
       "8854     Nov, 2019        0          0  \n",
       "8887     Nov, 2019        0          0  \n",
       "9004     Sep, 2019        0          0  \n",
       "9018     Aug, 2019        0          0  \n",
       "9126     Jun, 2019        0          0  \n",
       "\n",
       "[104 rows x 9 columns]"
      ]
     },
     "execution_count": 47,
     "metadata": {},
     "output_type": "execute_result"
    }
   ],
   "source": [
    "pat2 = '|'.join(r\"\\b{}\\b\".format(x) for x in recommend)\n",
    "rec_neg = df_neg[df_neg['summary'].str.contains(pat2)]\n",
    "rec_neg\n",
    " \n"
   ]
  },
  {
   "cell_type": "code",
   "execution_count": 48,
   "id": "554c5628",
   "metadata": {},
   "outputs": [],
   "source": [
    "dfmid = df[df['rating'] == 3] "
   ]
  },
  {
   "cell_type": "code",
   "execution_count": 49,
   "id": "6518755a",
   "metadata": {},
   "outputs": [
    {
     "data": {
      "text/html": [
       "<div>\n",
       "<style scoped>\n",
       "    .dataframe tbody tr th:only-of-type {\n",
       "        vertical-align: middle;\n",
       "    }\n",
       "\n",
       "    .dataframe tbody tr th {\n",
       "        vertical-align: top;\n",
       "    }\n",
       "\n",
       "    .dataframe thead th {\n",
       "        text-align: right;\n",
       "    }\n",
       "</style>\n",
       "<table border=\"1\" class=\"dataframe\">\n",
       "  <thead>\n",
       "    <tr style=\"text-align: right;\">\n",
       "      <th></th>\n",
       "      <th>product_id</th>\n",
       "      <th>product_title</th>\n",
       "      <th>rating</th>\n",
       "      <th>summary</th>\n",
       "      <th>review</th>\n",
       "      <th>location</th>\n",
       "      <th>date</th>\n",
       "      <th>upvotes</th>\n",
       "      <th>downvotes</th>\n",
       "    </tr>\n",
       "  </thead>\n",
       "  <tbody>\n",
       "    <tr>\n",
       "      <th>20</th>\n",
       "      <td>ACCFZGAQJGYCYDCM</td>\n",
       "      <td>BoAt Rockerz 235v2 with ASAP charging Version ...</td>\n",
       "      <td>3</td>\n",
       "      <td>Does the job</td>\n",
       "      <td>Hi Seekers, I am writing this review after 2 w...</td>\n",
       "      <td>Mirzapur District</td>\n",
       "      <td>8 months ago</td>\n",
       "      <td>20</td>\n",
       "      <td>1</td>\n",
       "    </tr>\n",
       "    <tr>\n",
       "      <th>75</th>\n",
       "      <td>ACCFZGAQJGYCYDCM</td>\n",
       "      <td>BoAt Rockerz 235v2 with ASAP charging Version ...</td>\n",
       "      <td>3</td>\n",
       "      <td>Just okay</td>\n",
       "      <td>I got this earphone right now everything was o...</td>\n",
       "      <td>Saran District</td>\n",
       "      <td>8 months ago</td>\n",
       "      <td>14</td>\n",
       "      <td>10</td>\n",
       "    </tr>\n",
       "    <tr>\n",
       "      <th>117</th>\n",
       "      <td>ACCFZGAQJGYCYDCM</td>\n",
       "      <td>BoAt Rockerz 235v2 with ASAP charging Version ...</td>\n",
       "      <td>3</td>\n",
       "      <td>Fair</td>\n",
       "      <td>Good in this price range but not the bestSound...</td>\n",
       "      <td>Begunkodar</td>\n",
       "      <td>7 months ago</td>\n",
       "      <td>2</td>\n",
       "      <td>0</td>\n",
       "    </tr>\n",
       "    <tr>\n",
       "      <th>123</th>\n",
       "      <td>ACCFZGAQJGYCYDCM</td>\n",
       "      <td>BoAt Rockerz 235v2 with ASAP charging Version ...</td>\n",
       "      <td>3</td>\n",
       "      <td>Nice</td>\n",
       "      <td>I got this earphones in 900 and it's best in t...</td>\n",
       "      <td>Panipat</td>\n",
       "      <td>8 months ago</td>\n",
       "      <td>2</td>\n",
       "      <td>1</td>\n",
       "    </tr>\n",
       "    <tr>\n",
       "      <th>179</th>\n",
       "      <td>ACCFZGAQJGYCYDCM</td>\n",
       "      <td>BoAt Rockerz 235v2 with ASAP charging Version ...</td>\n",
       "      <td>3</td>\n",
       "      <td>Does the job</td>\n",
       "      <td>Posting this review after use of one day. The ...</td>\n",
       "      <td>Kalyan</td>\n",
       "      <td>7 months ago</td>\n",
       "      <td>1</td>\n",
       "      <td>2</td>\n",
       "    </tr>\n",
       "    <tr>\n",
       "      <th>...</th>\n",
       "      <td>...</td>\n",
       "      <td>...</td>\n",
       "      <td>...</td>\n",
       "      <td>...</td>\n",
       "      <td>...</td>\n",
       "      <td>...</td>\n",
       "      <td>...</td>\n",
       "      <td>...</td>\n",
       "      <td>...</td>\n",
       "    </tr>\n",
       "    <tr>\n",
       "      <th>9296</th>\n",
       "      <td>ACCEVQZABYWJHRHF</td>\n",
       "      <td>BoAt BassHeads 100 Wired Headset</td>\n",
       "      <td>3</td>\n",
       "      <td>Fair</td>\n",
       "      <td>good quality earphone , also good sound qualit...</td>\n",
       "      <td>Cuttack</td>\n",
       "      <td>Oct, 2018</td>\n",
       "      <td>0</td>\n",
       "      <td>0</td>\n",
       "    </tr>\n",
       "    <tr>\n",
       "      <th>9307</th>\n",
       "      <td>ACCEVQZABYWJHRHF</td>\n",
       "      <td>BoAt BassHeads 100 Wired Headset</td>\n",
       "      <td>3</td>\n",
       "      <td>Decent product</td>\n",
       "      <td>sound is better and product quality is also go...</td>\n",
       "      <td>Solapur</td>\n",
       "      <td>Oct, 2018</td>\n",
       "      <td>0</td>\n",
       "      <td>0</td>\n",
       "    </tr>\n",
       "    <tr>\n",
       "      <th>9308</th>\n",
       "      <td>ACCEVQZABYWJHRHF</td>\n",
       "      <td>BoAt BassHeads 100 Wired Headset</td>\n",
       "      <td>3</td>\n",
       "      <td>Does the job</td>\n",
       "      <td>Well good product but as per the review says t...</td>\n",
       "      <td>Pune</td>\n",
       "      <td>Oct, 2018</td>\n",
       "      <td>0</td>\n",
       "      <td>0</td>\n",
       "    </tr>\n",
       "    <tr>\n",
       "      <th>9314</th>\n",
       "      <td>ACCEVQZABYWJHRHF</td>\n",
       "      <td>BoAt BassHeads 100 Wired Headset</td>\n",
       "      <td>3</td>\n",
       "      <td>Good</td>\n",
       "      <td>Good sound quality but not the best. Bass is a...</td>\n",
       "      <td>Allahabad</td>\n",
       "      <td>Oct, 2018</td>\n",
       "      <td>0</td>\n",
       "      <td>0</td>\n",
       "    </tr>\n",
       "    <tr>\n",
       "      <th>9363</th>\n",
       "      <td>ACCEVQZABYWJHRHF</td>\n",
       "      <td>BoAt BassHeads 100 Wired Headset</td>\n",
       "      <td>3</td>\n",
       "      <td>Good</td>\n",
       "      <td>The built quality is good ,the sound is good b...</td>\n",
       "      <td>Hyderabad</td>\n",
       "      <td>May, 2018</td>\n",
       "      <td>0</td>\n",
       "      <td>0</td>\n",
       "    </tr>\n",
       "  </tbody>\n",
       "</table>\n",
       "<p>191 rows × 9 columns</p>\n",
       "</div>"
      ],
      "text/plain": [
       "            product_id                                      product_title  \\\n",
       "20    ACCFZGAQJGYCYDCM  BoAt Rockerz 235v2 with ASAP charging Version ...   \n",
       "75    ACCFZGAQJGYCYDCM  BoAt Rockerz 235v2 with ASAP charging Version ...   \n",
       "117   ACCFZGAQJGYCYDCM  BoAt Rockerz 235v2 with ASAP charging Version ...   \n",
       "123   ACCFZGAQJGYCYDCM  BoAt Rockerz 235v2 with ASAP charging Version ...   \n",
       "179   ACCFZGAQJGYCYDCM  BoAt Rockerz 235v2 with ASAP charging Version ...   \n",
       "...                ...                                                ...   \n",
       "9296  ACCEVQZABYWJHRHF                   BoAt BassHeads 100 Wired Headset   \n",
       "9307  ACCEVQZABYWJHRHF                   BoAt BassHeads 100 Wired Headset   \n",
       "9308  ACCEVQZABYWJHRHF                   BoAt BassHeads 100 Wired Headset   \n",
       "9314  ACCEVQZABYWJHRHF                   BoAt BassHeads 100 Wired Headset   \n",
       "9363  ACCEVQZABYWJHRHF                   BoAt BassHeads 100 Wired Headset   \n",
       "\n",
       "      rating         summary  \\\n",
       "20         3    Does the job   \n",
       "75         3       Just okay   \n",
       "117        3            Fair   \n",
       "123        3            Nice   \n",
       "179        3    Does the job   \n",
       "...      ...             ...   \n",
       "9296       3            Fair   \n",
       "9307       3  Decent product   \n",
       "9308       3    Does the job   \n",
       "9314       3            Good   \n",
       "9363       3            Good   \n",
       "\n",
       "                                                 review           location  \\\n",
       "20    Hi Seekers, I am writing this review after 2 w...  Mirzapur District   \n",
       "75    I got this earphone right now everything was o...     Saran District   \n",
       "117   Good in this price range but not the bestSound...         Begunkodar   \n",
       "123   I got this earphones in 900 and it's best in t...            Panipat   \n",
       "179   Posting this review after use of one day. The ...             Kalyan   \n",
       "...                                                 ...                ...   \n",
       "9296  good quality earphone , also good sound qualit...            Cuttack   \n",
       "9307  sound is better and product quality is also go...            Solapur   \n",
       "9308  Well good product but as per the review says t...               Pune   \n",
       "9314  Good sound quality but not the best. Bass is a...          Allahabad   \n",
       "9363  The built quality is good ,the sound is good b...          Hyderabad   \n",
       "\n",
       "              date  upvotes  downvotes  \n",
       "20    8 months ago       20          1  \n",
       "75    8 months ago       14         10  \n",
       "117   7 months ago        2          0  \n",
       "123   8 months ago        2          1  \n",
       "179   7 months ago        1          2  \n",
       "...            ...      ...        ...  \n",
       "9296     Oct, 2018        0          0  \n",
       "9307     Oct, 2018        0          0  \n",
       "9308     Oct, 2018        0          0  \n",
       "9314     Oct, 2018        0          0  \n",
       "9363     May, 2018        0          0  \n",
       "\n",
       "[191 rows x 9 columns]"
      ]
     },
     "execution_count": 49,
     "metadata": {},
     "output_type": "execute_result"
    }
   ],
   "source": [
    "\n",
    "pat = '|'.join(r\"\\b{}\\b\".format(x) for x in recommend)\n",
    "rec_mid = dfmid[dfmid['review'].str.contains(pat)]\n",
    "rec_mid"
   ]
  },
  {
   "cell_type": "code",
   "execution_count": 50,
   "id": "6a90137f",
   "metadata": {},
   "outputs": [],
   "source": [
    "not_rec = ['censure','condemn','deny','discourage','dissuade','oppose','protest','reject','blame','castigate','criticize','debase','decrease','denounce','disapprove','dislike','disregard','hate','humiliate','insult','mock','refuse','deny','disallow','forget','hold','ignore','keep','neglect','refuse','reject','halt','stop','exclude','not for', 'should not', 'try not', 'not be', 'dont buy', 'dont try', 'try another','try better', 'not recommended']"
   ]
  },
  {
   "cell_type": "code",
   "execution_count": 51,
   "id": "f00dc3eb",
   "metadata": {},
   "outputs": [
    {
     "data": {
      "text/html": [
       "<div>\n",
       "<style scoped>\n",
       "    .dataframe tbody tr th:only-of-type {\n",
       "        vertical-align: middle;\n",
       "    }\n",
       "\n",
       "    .dataframe tbody tr th {\n",
       "        vertical-align: top;\n",
       "    }\n",
       "\n",
       "    .dataframe thead th {\n",
       "        text-align: right;\n",
       "    }\n",
       "</style>\n",
       "<table border=\"1\" class=\"dataframe\">\n",
       "  <thead>\n",
       "    <tr style=\"text-align: right;\">\n",
       "      <th></th>\n",
       "      <th>product_id</th>\n",
       "      <th>product_title</th>\n",
       "      <th>rating</th>\n",
       "      <th>summary</th>\n",
       "      <th>review</th>\n",
       "      <th>location</th>\n",
       "      <th>date</th>\n",
       "      <th>upvotes</th>\n",
       "      <th>downvotes</th>\n",
       "    </tr>\n",
       "  </thead>\n",
       "  <tbody>\n",
       "    <tr>\n",
       "      <th>11</th>\n",
       "      <td>ACCFZGAQJGYCYDCM</td>\n",
       "      <td>BoAt Rockerz 235v2 with ASAP charging Version ...</td>\n",
       "      <td>4</td>\n",
       "      <td>Good choice</td>\n",
       "      <td>Nice build quality.. bass is best it self.. vi...</td>\n",
       "      <td>Padra</td>\n",
       "      <td>8 months ago</td>\n",
       "      <td>126</td>\n",
       "      <td>45</td>\n",
       "    </tr>\n",
       "    <tr>\n",
       "      <th>26</th>\n",
       "      <td>ACCFZGAQJGYCYDCM</td>\n",
       "      <td>BoAt Rockerz 235v2 with ASAP charging Version ...</td>\n",
       "      <td>5</td>\n",
       "      <td>Must buy!</td>\n",
       "      <td>Best product at this price loved it. Thank you...</td>\n",
       "      <td>Ahmadnagar</td>\n",
       "      <td>8 months ago</td>\n",
       "      <td>24</td>\n",
       "      <td>5</td>\n",
       "    </tr>\n",
       "    <tr>\n",
       "      <th>50</th>\n",
       "      <td>ACCFZGAQJGYCYDCM</td>\n",
       "      <td>BoAt Rockerz 235v2 with ASAP charging Version ...</td>\n",
       "      <td>5</td>\n",
       "      <td>Must buy!</td>\n",
       "      <td>i have ordered 2 headset reallyyyy awesome hig...</td>\n",
       "      <td>Tuticorin</td>\n",
       "      <td>8 months ago</td>\n",
       "      <td>4</td>\n",
       "      <td>0</td>\n",
       "    </tr>\n",
       "    <tr>\n",
       "      <th>52</th>\n",
       "      <td>ACCFZGAQJGYCYDCM</td>\n",
       "      <td>BoAt Rockerz 235v2 with ASAP charging Version ...</td>\n",
       "      <td>5</td>\n",
       "      <td>Must buy!</td>\n",
       "      <td>thanks flipkart its was a wonderful time that ...</td>\n",
       "      <td>Tinsukia</td>\n",
       "      <td>8 months ago</td>\n",
       "      <td>8</td>\n",
       "      <td>2</td>\n",
       "    </tr>\n",
       "    <tr>\n",
       "      <th>57</th>\n",
       "      <td>ACCFZGAQJGYCYDCM</td>\n",
       "      <td>BoAt Rockerz 235v2 with ASAP charging Version ...</td>\n",
       "      <td>4</td>\n",
       "      <td>Good choice</td>\n",
       "      <td>I would divide it in pros and cons...Pros:-1-g...</td>\n",
       "      <td>Asansol</td>\n",
       "      <td>8 months ago</td>\n",
       "      <td>10</td>\n",
       "      <td>3</td>\n",
       "    </tr>\n",
       "    <tr>\n",
       "      <th>...</th>\n",
       "      <td>...</td>\n",
       "      <td>...</td>\n",
       "      <td>...</td>\n",
       "      <td>...</td>\n",
       "      <td>...</td>\n",
       "      <td>...</td>\n",
       "      <td>...</td>\n",
       "      <td>...</td>\n",
       "      <td>...</td>\n",
       "    </tr>\n",
       "    <tr>\n",
       "      <th>9296</th>\n",
       "      <td>ACCEVQZABYWJHRHF</td>\n",
       "      <td>BoAt BassHeads 100 Wired Headset</td>\n",
       "      <td>3</td>\n",
       "      <td>Fair</td>\n",
       "      <td>good quality earphone , also good sound qualit...</td>\n",
       "      <td>Cuttack</td>\n",
       "      <td>Oct, 2018</td>\n",
       "      <td>0</td>\n",
       "      <td>0</td>\n",
       "    </tr>\n",
       "    <tr>\n",
       "      <th>9307</th>\n",
       "      <td>ACCEVQZABYWJHRHF</td>\n",
       "      <td>BoAt BassHeads 100 Wired Headset</td>\n",
       "      <td>3</td>\n",
       "      <td>Decent product</td>\n",
       "      <td>sound is better and product quality is also go...</td>\n",
       "      <td>Solapur</td>\n",
       "      <td>Oct, 2018</td>\n",
       "      <td>0</td>\n",
       "      <td>0</td>\n",
       "    </tr>\n",
       "    <tr>\n",
       "      <th>9308</th>\n",
       "      <td>ACCEVQZABYWJHRHF</td>\n",
       "      <td>BoAt BassHeads 100 Wired Headset</td>\n",
       "      <td>3</td>\n",
       "      <td>Does the job</td>\n",
       "      <td>Well good product but as per the review says t...</td>\n",
       "      <td>Pune</td>\n",
       "      <td>Oct, 2018</td>\n",
       "      <td>0</td>\n",
       "      <td>0</td>\n",
       "    </tr>\n",
       "    <tr>\n",
       "      <th>9314</th>\n",
       "      <td>ACCEVQZABYWJHRHF</td>\n",
       "      <td>BoAt BassHeads 100 Wired Headset</td>\n",
       "      <td>3</td>\n",
       "      <td>Good</td>\n",
       "      <td>Good sound quality but not the best. Bass is a...</td>\n",
       "      <td>Allahabad</td>\n",
       "      <td>Oct, 2018</td>\n",
       "      <td>0</td>\n",
       "      <td>0</td>\n",
       "    </tr>\n",
       "    <tr>\n",
       "      <th>9363</th>\n",
       "      <td>ACCEVQZABYWJHRHF</td>\n",
       "      <td>BoAt BassHeads 100 Wired Headset</td>\n",
       "      <td>3</td>\n",
       "      <td>Good</td>\n",
       "      <td>The built quality is good ,the sound is good b...</td>\n",
       "      <td>Hyderabad</td>\n",
       "      <td>May, 2018</td>\n",
       "      <td>0</td>\n",
       "      <td>0</td>\n",
       "    </tr>\n",
       "  </tbody>\n",
       "</table>\n",
       "<p>665 rows × 9 columns</p>\n",
       "</div>"
      ],
      "text/plain": [
       "            product_id                                      product_title  \\\n",
       "11    ACCFZGAQJGYCYDCM  BoAt Rockerz 235v2 with ASAP charging Version ...   \n",
       "26    ACCFZGAQJGYCYDCM  BoAt Rockerz 235v2 with ASAP charging Version ...   \n",
       "50    ACCFZGAQJGYCYDCM  BoAt Rockerz 235v2 with ASAP charging Version ...   \n",
       "52    ACCFZGAQJGYCYDCM  BoAt Rockerz 235v2 with ASAP charging Version ...   \n",
       "57    ACCFZGAQJGYCYDCM  BoAt Rockerz 235v2 with ASAP charging Version ...   \n",
       "...                ...                                                ...   \n",
       "9296  ACCEVQZABYWJHRHF                   BoAt BassHeads 100 Wired Headset   \n",
       "9307  ACCEVQZABYWJHRHF                   BoAt BassHeads 100 Wired Headset   \n",
       "9308  ACCEVQZABYWJHRHF                   BoAt BassHeads 100 Wired Headset   \n",
       "9314  ACCEVQZABYWJHRHF                   BoAt BassHeads 100 Wired Headset   \n",
       "9363  ACCEVQZABYWJHRHF                   BoAt BassHeads 100 Wired Headset   \n",
       "\n",
       "      rating         summary  \\\n",
       "11         4     Good choice   \n",
       "26         5       Must buy!   \n",
       "50         5       Must buy!   \n",
       "52         5       Must buy!   \n",
       "57         4     Good choice   \n",
       "...      ...             ...   \n",
       "9296       3            Fair   \n",
       "9307       3  Decent product   \n",
       "9308       3    Does the job   \n",
       "9314       3            Good   \n",
       "9363       3            Good   \n",
       "\n",
       "                                                 review    location  \\\n",
       "11    Nice build quality.. bass is best it self.. vi...       Padra   \n",
       "26    Best product at this price loved it. Thank you...  Ahmadnagar   \n",
       "50    i have ordered 2 headset reallyyyy awesome hig...   Tuticorin   \n",
       "52    thanks flipkart its was a wonderful time that ...    Tinsukia   \n",
       "57    I would divide it in pros and cons...Pros:-1-g...     Asansol   \n",
       "...                                                 ...         ...   \n",
       "9296  good quality earphone , also good sound qualit...     Cuttack   \n",
       "9307  sound is better and product quality is also go...     Solapur   \n",
       "9308  Well good product but as per the review says t...        Pune   \n",
       "9314  Good sound quality but not the best. Bass is a...   Allahabad   \n",
       "9363  The built quality is good ,the sound is good b...   Hyderabad   \n",
       "\n",
       "              date  upvotes  downvotes  \n",
       "11    8 months ago      126         45  \n",
       "26    8 months ago       24          5  \n",
       "50    8 months ago        4          0  \n",
       "52    8 months ago        8          2  \n",
       "57    8 months ago       10          3  \n",
       "...            ...      ...        ...  \n",
       "9296     Oct, 2018        0          0  \n",
       "9307     Oct, 2018        0          0  \n",
       "9308     Oct, 2018        0          0  \n",
       "9314     Oct, 2018        0          0  \n",
       "9363     May, 2018        0          0  \n",
       "\n",
       "[665 rows x 9 columns]"
      ]
     },
     "execution_count": 51,
     "metadata": {},
     "output_type": "execute_result"
    }
   ],
   "source": [
    "frames = [rec_pos, rec_mid]\n",
    " \n",
    "res_rec = pd.concat(frames)\n",
    "res_rec"
   ]
  },
  {
   "cell_type": "code",
   "execution_count": 52,
   "id": "e68cdd89",
   "metadata": {},
   "outputs": [],
   "source": [
    "i=0\n",
    " \n",
    "factor_counter_rec_pos =  [0, 0, 0, 0, 0, 0]\n",
    "for factor in factors:\n",
    "    for ele in factor:\n",
    "        n = res_rec[\"review\"].str.count(ele).sum()\n",
    "        factor_counter_rec_pos[i] = factor_counter_rec_pos[i] + n\n",
    "    i = i+1"
   ]
  },
  {
   "cell_type": "code",
   "execution_count": 53,
   "id": "ddf38b05",
   "metadata": {},
   "outputs": [
    {
     "data": {
      "text/plain": [
       "[56, 151, 302, 276, 475, 97]"
      ]
     },
     "execution_count": 53,
     "metadata": {},
     "output_type": "execute_result"
    }
   ],
   "source": [
    "factor_counter_rec_pos"
   ]
  },
  {
   "cell_type": "code",
   "execution_count": 54,
   "id": "e1a8276d",
   "metadata": {},
   "outputs": [],
   "source": [
    "factors_list = [\"Delivery\", \"Design\", \"Experience\", \"Price\", \"Quality\", \"Others\"]"
   ]
  },
  {
   "cell_type": "code",
   "execution_count": 55,
   "id": "b4663e3e",
   "metadata": {},
   "outputs": [
    {
     "data": {
      "image/png": "[encoded data removed]",
      "text/plain": [
       "<Figure size 640x480 with 1 Axes>"
      ]
     },
     "metadata": {},
     "output_type": "display_data"
    }
   ],
   "source": [
    "fig = plt.figure()\n",
    "ax = fig.add_axes([1,1,1,1])\n",
    "ax.bar(factors_list,factor_counter_rec_pos, width = 0.96, color='#FF5733' )\n",
    "ax.set_facecolor(\"#FDFDFD\")\n",
    "ax.set_axisbelow(True)\n",
    "ax.grid(axis='y', color='gray', linestyle='dashed') \n",
    "plt.yticks([0 ,50, 100, 150, 200, 250, 300, 350, 400, 450, 500]) \n",
    "\n",
    "plt.xlabel('Product factors')\n",
    "plt.ylabel('Frequency')\n",
    "ax.set_title(\"Factors why cutomers are showing interest in recommending products\", ha='center')\n",
    "plt.show()"
   ]
  },
  {
   "cell_type": "code",
   "execution_count": 56,
   "id": "aeb85b76",
   "metadata": {},
   "outputs": [],
   "source": [
    "n = res_rec['product_title'].value_counts()[:10].tolist() \n",
    "prdt = res_rec['product_title'].value_counts()[:10].index.tolist()\n",
    "main = np.transpose([prdt, n])"
   ]
  },
  {
   "cell_type": "code",
   "execution_count": 57,
   "id": "1bf2fa48",
   "metadata": {},
   "outputs": [
    {
     "data": {
      "text/plain": [
       "array([['BoAt Rockerz 235v2 with ASAP charging Version 5.0 Bluetooth Headset',\n",
       "        '138'],\n",
       "       ['BoAt BassHeads 100 Wired Headset', '108'],\n",
       "       ['OnePlus Bullets Wireless Z Bluetooth Headset', '84'],\n",
       "       ['realme Buds Wireless Bluetooth Headset', '74'],\n",
       "       ['realme Buds 2 Wired Headset', '73'],\n",
       "       ['OnePlus Bullets Wireless Z Bass Edition Bluetooth Headset',\n",
       "        '56'],\n",
       "       ['realme Buds Q Bluetooth Headset', '49'],\n",
       "       ['U&I Titanic Series - Low Price Bluetooth Neckband Bluetooth Headset',\n",
       "        '42'],\n",
       "       ['BoAt Airdopes 131 Bluetooth Headset', '41']], dtype='<U67')"
      ]
     },
     "execution_count": 57,
     "metadata": {},
     "output_type": "execute_result"
    }
   ],
   "source": [
    "main"
   ]
  },
  {
   "cell_type": "code",
   "execution_count": null,
   "id": "a7b6b8bb",
   "metadata": {},
   "outputs": [],
   "source": []
  },
  {
   "cell_type": "code",
   "execution_count": null,
   "id": "f4a86569",
   "metadata": {},
   "outputs": [],
   "source": []
  },
  {
   "cell_type": "code",
   "execution_count": null,
   "id": "b352c590",
   "metadata": {},
   "outputs": [],
   "source": []
  },
  {
   "cell_type": "code",
   "execution_count": null,
   "id": "217634ef",
   "metadata": {},
   "outputs": [],
   "source": []
  }
 ],
 "metadata": {
  "kernelspec": {
   "display_name": "Python 3 (ipykernel)",
   "language": "python",
   "name": "python3"
  },
  "language_info": {
   "codemirror_mode": {
    "name": "ipython",
    "version": 3
   },
   "file_extension": ".py",
   "mimetype": "text/x-python",
   "name": "python",
   "nbconvert_exporter": "python",
   "pygments_lexer": "ipython3",
   "version": "3.8.0"
  }
 },
 "nbformat": 4,
 "nbformat_minor": 5
}
